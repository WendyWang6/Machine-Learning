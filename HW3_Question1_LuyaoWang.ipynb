{
 "cells": [
  {
   "cell_type": "code",
   "execution_count": 1,
   "metadata": {},
   "outputs": [],
   "source": [
    "import pandas as pd\n",
    "import numpy as np\n",
    "import matplotlib.pyplot as plt\n",
    "import seaborn as sns\n",
    "%matplotlib inline\n",
    "\n",
    "from sklearn import linear_model\n",
    "from sklearn.model_selection import StratifiedKFold, KFold\n",
    "\n",
    "from sklearn import metrics"
   ]
  },
  {
   "cell_type": "markdown",
   "metadata": {},
   "source": [
    "## First Iteration Calculation:"
   ]
  },
  {
   "cell_type": "code",
   "execution_count": 2,
   "metadata": {},
   "outputs": [],
   "source": [
    "# calculate the distance of two points\n",
    "def findDistance(point, center):\n",
    "    xDistance = (point[0] - center[0])**2\n",
    "    yDistance = (point[1] - center[1])**2\n",
    "    return np.sqrt(xDistance + yDistance)"
   ]
  },
  {
   "cell_type": "code",
   "execution_count": 3,
   "metadata": {},
   "outputs": [],
   "source": [
    "points = [[5.9, 3.2], [4.6, 2.9], [6.2, 2.8], [4.7, 3.2], [5.4, 4.2], [5.0, 3.0], [4.9, 3.1], [6.7, 3.1], [5.1, 3.8], [6.0, 3.0]]"
   ]
  },
  {
   "cell_type": "code",
   "execution_count": 4,
   "metadata": {},
   "outputs": [],
   "source": [
    "centroids = [[6.2, 3.2], [6.5, 3.6], [6.5, 2.9]]"
   ]
  },
  {
   "cell_type": "code",
   "execution_count": 5,
   "metadata": {},
   "outputs": [
    {
     "data": {
      "text/plain": [
       "[6.2, 3.2]"
      ]
     },
     "execution_count": 5,
     "metadata": {},
     "output_type": "execute_result"
    }
   ],
   "source": [
    "centroids[0]"
   ]
  },
  {
   "cell_type": "code",
   "execution_count": 6,
   "metadata": {},
   "outputs": [
    {
     "name": "stdout",
     "output_type": "stream",
     "text": [
      "point [5.9, 3.2]'s centroid is: [6.5, 3.6]\n",
      "point [4.6, 2.9]'s centroid is: [6.5, 3.6]\n",
      "point [6.2, 2.8]'s centroid is: [6.5, 3.6]\n",
      "point [4.7, 3.2]'s centroid is: [6.5, 3.6]\n",
      "point [5.4, 4.2]'s centroid is: [6.5, 2.9]\n",
      "point [5.0, 3.0]'s centroid is: [6.5, 3.6]\n",
      "point [4.9, 3.1]'s centroid is: [6.5, 3.6]\n",
      "point [6.7, 3.1]'s centroid is: [6.5, 3.6]\n",
      "point [5.1, 3.8]'s centroid is: [6.5, 2.9]\n",
      "point [6.0, 3.0]'s centroid is: [6.5, 3.6]\n"
     ]
    }
   ],
   "source": [
    "# find the centroid of each points\n",
    "for i in range(len(points)):\n",
    "    center = centroids[0]\n",
    "    shortest = findDistance(points[i], centroids[0])\n",
    "    for j in range(len(centroids)):\n",
    "        tempDistance = findDistance(points[i], centroids[j])\n",
    "        if tempDistance > shortest:\n",
    "            shortest = tempDistance\n",
    "            center = centroids[j]\n",
    "    print(\"point \" + str(points[i]) +\"'s centroid is: \" + str(center))"
   ]
  },
  {
   "cell_type": "code",
   "execution_count": 7,
   "metadata": {},
   "outputs": [],
   "source": [
    "# find the adjusted centroids\n",
    "def findCentroid(points):\n",
    "    x = 0;\n",
    "    y = 0;\n",
    "    for i in range(len(points)):\n",
    "        x += points[i][0]\n",
    "        y += points[i][1]\n",
    "    x = x/len(points)\n",
    "    y = y/len(points)\n",
    "    center = [x, y]\n",
    "    return center"
   ]
  },
  {
   "cell_type": "code",
   "execution_count": 8,
   "metadata": {},
   "outputs": [],
   "source": [
    "cluster2_ite1 = [[5.9, 3.2], [4.6, 2.9], [6.2, 2.8], [4.7, 3.2], [5.0, 3.0], [4.9, 3.1], [6.7, 3.1], [6.0, 3.0]]\n",
    "cluster3_ite1 = [[5.4, 4.2], [5.1, 3.8]]"
   ]
  },
  {
   "cell_type": "code",
   "execution_count": 9,
   "metadata": {},
   "outputs": [
    {
     "data": {
      "text/plain": [
       "[5.5, 3.0375]"
      ]
     },
     "execution_count": 9,
     "metadata": {},
     "output_type": "execute_result"
    }
   ],
   "source": [
    "c2 = findCentroid(cluster2_ite1)\n",
    "c2"
   ]
  },
  {
   "cell_type": "code",
   "execution_count": 10,
   "metadata": {},
   "outputs": [
    {
     "data": {
      "text/plain": [
       "[5.25, 4.0]"
      ]
     },
     "execution_count": 10,
     "metadata": {},
     "output_type": "execute_result"
    }
   ],
   "source": [
    "c3 = findCentroid(cluster3_ite1)\n",
    "c3"
   ]
  },
  {
   "cell_type": "markdown",
   "metadata": {},
   "source": [
    "## Second Iteration Calculation:"
   ]
  },
  {
   "cell_type": "code",
   "execution_count": 11,
   "metadata": {},
   "outputs": [],
   "source": [
    "# points do not change\n",
    "# centroids changed\n",
    "centroids2 = [[6.2, 3.2], [5.5, 3.0375], [5.25, 4.0]]"
   ]
  },
  {
   "cell_type": "code",
   "execution_count": 12,
   "metadata": {},
   "outputs": [
    {
     "name": "stdout",
     "output_type": "stream",
     "text": [
      "point [5.9, 3.2]'s centroid is: [5.25, 4.0]\n",
      "point [4.6, 2.9]'s centroid is: [6.2, 3.2]\n",
      "point [6.2, 2.8]'s centroid is: [5.25, 4.0]\n",
      "point [4.7, 3.2]'s centroid is: [6.2, 3.2]\n",
      "point [5.4, 4.2]'s centroid is: [6.2, 3.2]\n",
      "point [5.0, 3.0]'s centroid is: [6.2, 3.2]\n",
      "point [4.9, 3.1]'s centroid is: [6.2, 3.2]\n",
      "point [6.7, 3.1]'s centroid is: [5.25, 4.0]\n",
      "point [5.1, 3.8]'s centroid is: [6.2, 3.2]\n",
      "point [6.0, 3.0]'s centroid is: [5.25, 4.0]\n"
     ]
    }
   ],
   "source": [
    "for i in range(len(points)):\n",
    "    center = centroids2[0]\n",
    "    shortest = findDistance(points[i], centroids2[0])\n",
    "    for j in range(len(centroids2)):\n",
    "        tempDistance = findDistance(points[i], centroids2[j])\n",
    "        if tempDistance > shortest:\n",
    "            shortest = tempDistance\n",
    "            center = centroids2[j]\n",
    "    print(\"point \" + str(points[i]) +\"'s centroid is: \" + str(center))"
   ]
  },
  {
   "cell_type": "code",
   "execution_count": 13,
   "metadata": {},
   "outputs": [],
   "source": [
    "# find the adjusted centroids\n",
    "cluster1_ite2 = [[5.9, 3.2], [4.6, 2.9], [6.2, 2.8], [4.7, 3.2], [5.0, 3.0], [4.9, 3.1], [6.7, 3.1], [6.0, 3.0]]\n",
    "cluster3_ite2 = [[5.4, 4.2], [5.1, 3.8]]"
   ]
  },
  {
   "cell_type": "code",
   "execution_count": 14,
   "metadata": {},
   "outputs": [
    {
     "data": {
      "text/plain": [
       "[5.5, 3.0375]"
      ]
     },
     "execution_count": 14,
     "metadata": {},
     "output_type": "execute_result"
    }
   ],
   "source": [
    "c1 = findCentroid(cluster1_ite2)\n",
    "c1"
   ]
  },
  {
   "cell_type": "code",
   "execution_count": 15,
   "metadata": {},
   "outputs": [
    {
     "data": {
      "text/plain": [
       "[5.25, 4.0]"
      ]
     },
     "execution_count": 15,
     "metadata": {},
     "output_type": "execute_result"
    }
   ],
   "source": [
    "c3 = findCentroid(cluster3_ite2)\n",
    "c3"
   ]
  },
  {
   "cell_type": "markdown",
   "metadata": {},
   "source": [
    "## Third Iteration Calculation:"
   ]
  },
  {
   "cell_type": "code",
   "execution_count": 17,
   "metadata": {},
   "outputs": [],
   "source": [
    "# points do not change\n",
    "# centroids changed\n",
    "centroids3 = [[5.5, 3.0375], [5.5, 3.0375], [5.25, 4.0]]"
   ]
  },
  {
   "cell_type": "code",
   "execution_count": 18,
   "metadata": {},
   "outputs": [
    {
     "name": "stdout",
     "output_type": "stream",
     "text": [
      "point [5.9, 3.2]'s centroid is: [5.25, 4.0]\n",
      "point [4.6, 2.9]'s centroid is: [5.25, 4.0]\n",
      "point [6.2, 2.8]'s centroid is: [5.25, 4.0]\n",
      "point [4.7, 3.2]'s centroid is: [5.25, 4.0]\n",
      "point [5.4, 4.2]'s centroid is: [5.5, 3.0375]\n",
      "point [5.0, 3.0]'s centroid is: [5.25, 4.0]\n",
      "point [4.9, 3.1]'s centroid is: [5.25, 4.0]\n",
      "point [6.7, 3.1]'s centroid is: [5.25, 4.0]\n",
      "point [5.1, 3.8]'s centroid is: [5.5, 3.0375]\n",
      "point [6.0, 3.0]'s centroid is: [5.25, 4.0]\n"
     ]
    }
   ],
   "source": [
    "for i in range(len(points)):\n",
    "    center = centroids3[0]\n",
    "    shortest = findDistance(points[i], centroids3[0])\n",
    "    for j in range(len(centroids3)):\n",
    "        tempDistance = findDistance(points[i], centroids3[j])\n",
    "        if tempDistance > shortest:\n",
    "            shortest = tempDistance\n",
    "            center = centroids3[j]\n",
    "    print(\"point \" + str(points[i]) +\"'s centroid is: \" + str(center))"
   ]
  },
  {
   "cell_type": "code",
   "execution_count": 19,
   "metadata": {},
   "outputs": [],
   "source": [
    "# find the adjusted centroids\n",
    "cluster1_ite3 = [[5.4, 4.2], [5.1, 3.8]]\n",
    "cluster3_ite3 = [[5.9, 3.2], [4.6, 2.9], [6.2, 2.8], [4.7, 3.2], [5.0, 3.0], [4.9, 3.1], [6.7, 3.1], [6.0, 3.0]]"
   ]
  },
  {
   "cell_type": "code",
   "execution_count": 20,
   "metadata": {},
   "outputs": [
    {
     "data": {
      "text/plain": [
       "[5.25, 4.0]"
      ]
     },
     "execution_count": 20,
     "metadata": {},
     "output_type": "execute_result"
    }
   ],
   "source": [
    "c1 = c2 = findCentroid(cluster1_ite3)\n",
    "c1"
   ]
  },
  {
   "cell_type": "code",
   "execution_count": 21,
   "metadata": {},
   "outputs": [
    {
     "data": {
      "text/plain": [
       "[5.5, 3.0375]"
      ]
     },
     "execution_count": 21,
     "metadata": {},
     "output_type": "execute_result"
    }
   ],
   "source": [
    "c3 = findCentroid(cluster3_ite3)\n",
    "c3"
   ]
  },
  {
   "cell_type": "code",
   "execution_count": null,
   "metadata": {},
   "outputs": [],
   "source": []
  }
 ],
 "metadata": {
  "kernelspec": {
   "display_name": "Python 3",
   "language": "python",
   "name": "python3"
  },
  "language_info": {
   "codemirror_mode": {
    "name": "ipython",
    "version": 3
   },
   "file_extension": ".py",
   "mimetype": "text/x-python",
   "name": "python",
   "nbconvert_exporter": "python",
   "pygments_lexer": "ipython3",
   "version": "3.8.3"
  }
 },
 "nbformat": 4,
 "nbformat_minor": 4
}
