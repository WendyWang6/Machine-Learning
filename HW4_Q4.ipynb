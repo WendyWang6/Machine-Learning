{
 "cells": [
  {
   "cell_type": "code",
   "execution_count": 1,
   "metadata": {},
   "outputs": [],
   "source": [
    "import pandas as pd\n",
    "import numpy as np\n",
    "import matplotlib.pyplot as plt\n",
    "import seaborn as sns\n",
    "%matplotlib inline\n",
    "\n",
    "from sklearn.preprocessing import LabelEncoder\n",
    "from sklearn.model_selection import StratifiedKFold, KFold\n",
    "from sklearn.model_selection import train_test_split\n",
    "from sklearn.linear_model import LogisticRegression\n",
    "from sklearn.tree import DecisionTreeClassifier\n",
    "from sklearn.naive_bayes import GaussianNB\n",
    "from sklearn.ensemble import RandomForestClassifier\n",
    "from sklearn.ensemble import GradientBoostingClassifier\n",
    "\n",
    "from sklearn import metrics\n",
    "from sklearn.metrics import classification_report, roc_auc_score\n",
    "from fairmlhealth import model_comparison as fhmc"
   ]
  },
  {
   "cell_type": "code",
   "execution_count": 2,
   "metadata": {},
   "outputs": [],
   "source": [
    "df = pd.read_csv(r\"C:\\Users\\wendy\\UW CS Graduate\\CS581_Machine Learning\\Assignments\\HW2\\SouthGermanCredit\\SouthGermanCredit.asc\", sep=\" \")"
   ]
  },
  {
   "cell_type": "code",
   "execution_count": 3,
   "metadata": {},
   "outputs": [
    {
     "name": "stdout",
     "output_type": "stream",
     "text": [
      "The shape of the DataFrame is: (1000, 21)\n"
     ]
    }
   ],
   "source": [
    "print(\"The shape of the DataFrame is: {}\".format(df.shape))"
   ]
  },
  {
   "cell_type": "code",
   "execution_count": 4,
   "metadata": {},
   "outputs": [
    {
     "data": {
      "text/html": [
       "<div>\n",
       "<style scoped>\n",
       "    .dataframe tbody tr th:only-of-type {\n",
       "        vertical-align: middle;\n",
       "    }\n",
       "\n",
       "    .dataframe tbody tr th {\n",
       "        vertical-align: top;\n",
       "    }\n",
       "\n",
       "    .dataframe thead th {\n",
       "        text-align: right;\n",
       "    }\n",
       "</style>\n",
       "<table border=\"1\" class=\"dataframe\">\n",
       "  <thead>\n",
       "    <tr style=\"text-align: right;\">\n",
       "      <th></th>\n",
       "      <th>laufkont</th>\n",
       "      <th>laufzeit</th>\n",
       "      <th>moral</th>\n",
       "      <th>verw</th>\n",
       "      <th>hoehe</th>\n",
       "      <th>sparkont</th>\n",
       "      <th>beszeit</th>\n",
       "      <th>rate</th>\n",
       "      <th>famges</th>\n",
       "      <th>buerge</th>\n",
       "      <th>...</th>\n",
       "      <th>verm</th>\n",
       "      <th>alter</th>\n",
       "      <th>weitkred</th>\n",
       "      <th>wohn</th>\n",
       "      <th>bishkred</th>\n",
       "      <th>beruf</th>\n",
       "      <th>pers</th>\n",
       "      <th>telef</th>\n",
       "      <th>gastarb</th>\n",
       "      <th>kredit</th>\n",
       "    </tr>\n",
       "  </thead>\n",
       "  <tbody>\n",
       "    <tr>\n",
       "      <th>0</th>\n",
       "      <td>1</td>\n",
       "      <td>18</td>\n",
       "      <td>4</td>\n",
       "      <td>2</td>\n",
       "      <td>1049</td>\n",
       "      <td>1</td>\n",
       "      <td>2</td>\n",
       "      <td>4</td>\n",
       "      <td>2</td>\n",
       "      <td>1</td>\n",
       "      <td>...</td>\n",
       "      <td>2</td>\n",
       "      <td>21</td>\n",
       "      <td>3</td>\n",
       "      <td>1</td>\n",
       "      <td>1</td>\n",
       "      <td>3</td>\n",
       "      <td>2</td>\n",
       "      <td>1</td>\n",
       "      <td>2</td>\n",
       "      <td>1</td>\n",
       "    </tr>\n",
       "    <tr>\n",
       "      <th>1</th>\n",
       "      <td>1</td>\n",
       "      <td>9</td>\n",
       "      <td>4</td>\n",
       "      <td>0</td>\n",
       "      <td>2799</td>\n",
       "      <td>1</td>\n",
       "      <td>3</td>\n",
       "      <td>2</td>\n",
       "      <td>3</td>\n",
       "      <td>1</td>\n",
       "      <td>...</td>\n",
       "      <td>1</td>\n",
       "      <td>36</td>\n",
       "      <td>3</td>\n",
       "      <td>1</td>\n",
       "      <td>2</td>\n",
       "      <td>3</td>\n",
       "      <td>1</td>\n",
       "      <td>1</td>\n",
       "      <td>2</td>\n",
       "      <td>1</td>\n",
       "    </tr>\n",
       "    <tr>\n",
       "      <th>2</th>\n",
       "      <td>2</td>\n",
       "      <td>12</td>\n",
       "      <td>2</td>\n",
       "      <td>9</td>\n",
       "      <td>841</td>\n",
       "      <td>2</td>\n",
       "      <td>4</td>\n",
       "      <td>2</td>\n",
       "      <td>2</td>\n",
       "      <td>1</td>\n",
       "      <td>...</td>\n",
       "      <td>1</td>\n",
       "      <td>23</td>\n",
       "      <td>3</td>\n",
       "      <td>1</td>\n",
       "      <td>1</td>\n",
       "      <td>2</td>\n",
       "      <td>2</td>\n",
       "      <td>1</td>\n",
       "      <td>2</td>\n",
       "      <td>1</td>\n",
       "    </tr>\n",
       "    <tr>\n",
       "      <th>3</th>\n",
       "      <td>1</td>\n",
       "      <td>12</td>\n",
       "      <td>4</td>\n",
       "      <td>0</td>\n",
       "      <td>2122</td>\n",
       "      <td>1</td>\n",
       "      <td>3</td>\n",
       "      <td>3</td>\n",
       "      <td>3</td>\n",
       "      <td>1</td>\n",
       "      <td>...</td>\n",
       "      <td>1</td>\n",
       "      <td>39</td>\n",
       "      <td>3</td>\n",
       "      <td>1</td>\n",
       "      <td>2</td>\n",
       "      <td>2</td>\n",
       "      <td>1</td>\n",
       "      <td>1</td>\n",
       "      <td>1</td>\n",
       "      <td>1</td>\n",
       "    </tr>\n",
       "    <tr>\n",
       "      <th>4</th>\n",
       "      <td>1</td>\n",
       "      <td>12</td>\n",
       "      <td>4</td>\n",
       "      <td>0</td>\n",
       "      <td>2171</td>\n",
       "      <td>1</td>\n",
       "      <td>3</td>\n",
       "      <td>4</td>\n",
       "      <td>3</td>\n",
       "      <td>1</td>\n",
       "      <td>...</td>\n",
       "      <td>2</td>\n",
       "      <td>38</td>\n",
       "      <td>1</td>\n",
       "      <td>2</td>\n",
       "      <td>2</td>\n",
       "      <td>2</td>\n",
       "      <td>2</td>\n",
       "      <td>1</td>\n",
       "      <td>1</td>\n",
       "      <td>1</td>\n",
       "    </tr>\n",
       "    <tr>\n",
       "      <th>5</th>\n",
       "      <td>1</td>\n",
       "      <td>10</td>\n",
       "      <td>4</td>\n",
       "      <td>0</td>\n",
       "      <td>2241</td>\n",
       "      <td>1</td>\n",
       "      <td>2</td>\n",
       "      <td>1</td>\n",
       "      <td>3</td>\n",
       "      <td>1</td>\n",
       "      <td>...</td>\n",
       "      <td>1</td>\n",
       "      <td>48</td>\n",
       "      <td>3</td>\n",
       "      <td>1</td>\n",
       "      <td>2</td>\n",
       "      <td>2</td>\n",
       "      <td>1</td>\n",
       "      <td>1</td>\n",
       "      <td>1</td>\n",
       "      <td>1</td>\n",
       "    </tr>\n",
       "    <tr>\n",
       "      <th>6</th>\n",
       "      <td>1</td>\n",
       "      <td>8</td>\n",
       "      <td>4</td>\n",
       "      <td>0</td>\n",
       "      <td>3398</td>\n",
       "      <td>1</td>\n",
       "      <td>4</td>\n",
       "      <td>1</td>\n",
       "      <td>3</td>\n",
       "      <td>1</td>\n",
       "      <td>...</td>\n",
       "      <td>1</td>\n",
       "      <td>39</td>\n",
       "      <td>3</td>\n",
       "      <td>2</td>\n",
       "      <td>2</td>\n",
       "      <td>2</td>\n",
       "      <td>2</td>\n",
       "      <td>1</td>\n",
       "      <td>1</td>\n",
       "      <td>1</td>\n",
       "    </tr>\n",
       "    <tr>\n",
       "      <th>7</th>\n",
       "      <td>1</td>\n",
       "      <td>6</td>\n",
       "      <td>4</td>\n",
       "      <td>0</td>\n",
       "      <td>1361</td>\n",
       "      <td>1</td>\n",
       "      <td>2</td>\n",
       "      <td>2</td>\n",
       "      <td>3</td>\n",
       "      <td>1</td>\n",
       "      <td>...</td>\n",
       "      <td>1</td>\n",
       "      <td>40</td>\n",
       "      <td>3</td>\n",
       "      <td>2</td>\n",
       "      <td>1</td>\n",
       "      <td>2</td>\n",
       "      <td>1</td>\n",
       "      <td>1</td>\n",
       "      <td>1</td>\n",
       "      <td>1</td>\n",
       "    </tr>\n",
       "    <tr>\n",
       "      <th>8</th>\n",
       "      <td>4</td>\n",
       "      <td>18</td>\n",
       "      <td>4</td>\n",
       "      <td>3</td>\n",
       "      <td>1098</td>\n",
       "      <td>1</td>\n",
       "      <td>1</td>\n",
       "      <td>4</td>\n",
       "      <td>2</td>\n",
       "      <td>1</td>\n",
       "      <td>...</td>\n",
       "      <td>3</td>\n",
       "      <td>65</td>\n",
       "      <td>3</td>\n",
       "      <td>2</td>\n",
       "      <td>2</td>\n",
       "      <td>1</td>\n",
       "      <td>2</td>\n",
       "      <td>1</td>\n",
       "      <td>2</td>\n",
       "      <td>1</td>\n",
       "    </tr>\n",
       "    <tr>\n",
       "      <th>9</th>\n",
       "      <td>2</td>\n",
       "      <td>24</td>\n",
       "      <td>2</td>\n",
       "      <td>3</td>\n",
       "      <td>3758</td>\n",
       "      <td>3</td>\n",
       "      <td>1</td>\n",
       "      <td>1</td>\n",
       "      <td>2</td>\n",
       "      <td>1</td>\n",
       "      <td>...</td>\n",
       "      <td>4</td>\n",
       "      <td>23</td>\n",
       "      <td>3</td>\n",
       "      <td>1</td>\n",
       "      <td>1</td>\n",
       "      <td>1</td>\n",
       "      <td>2</td>\n",
       "      <td>1</td>\n",
       "      <td>2</td>\n",
       "      <td>1</td>\n",
       "    </tr>\n",
       "  </tbody>\n",
       "</table>\n",
       "<p>10 rows × 21 columns</p>\n",
       "</div>"
      ],
      "text/plain": [
       "   laufkont  laufzeit  moral  verw  hoehe  sparkont  beszeit  rate  famges  \\\n",
       "0         1        18      4     2   1049         1        2     4       2   \n",
       "1         1         9      4     0   2799         1        3     2       3   \n",
       "2         2        12      2     9    841         2        4     2       2   \n",
       "3         1        12      4     0   2122         1        3     3       3   \n",
       "4         1        12      4     0   2171         1        3     4       3   \n",
       "5         1        10      4     0   2241         1        2     1       3   \n",
       "6         1         8      4     0   3398         1        4     1       3   \n",
       "7         1         6      4     0   1361         1        2     2       3   \n",
       "8         4        18      4     3   1098         1        1     4       2   \n",
       "9         2        24      2     3   3758         3        1     1       2   \n",
       "\n",
       "   buerge  ...  verm  alter  weitkred  wohn  bishkred  beruf  pers  telef  \\\n",
       "0       1  ...     2     21         3     1         1      3     2      1   \n",
       "1       1  ...     1     36         3     1         2      3     1      1   \n",
       "2       1  ...     1     23         3     1         1      2     2      1   \n",
       "3       1  ...     1     39         3     1         2      2     1      1   \n",
       "4       1  ...     2     38         1     2         2      2     2      1   \n",
       "5       1  ...     1     48         3     1         2      2     1      1   \n",
       "6       1  ...     1     39         3     2         2      2     2      1   \n",
       "7       1  ...     1     40         3     2         1      2     1      1   \n",
       "8       1  ...     3     65         3     2         2      1     2      1   \n",
       "9       1  ...     4     23         3     1         1      1     2      1   \n",
       "\n",
       "   gastarb  kredit  \n",
       "0        2       1  \n",
       "1        2       1  \n",
       "2        2       1  \n",
       "3        1       1  \n",
       "4        1       1  \n",
       "5        1       1  \n",
       "6        1       1  \n",
       "7        1       1  \n",
       "8        2       1  \n",
       "9        2       1  \n",
       "\n",
       "[10 rows x 21 columns]"
      ]
     },
     "execution_count": 4,
     "metadata": {},
     "output_type": "execute_result"
    }
   ],
   "source": [
    "df.head(10)"
   ]
  },
  {
   "cell_type": "code",
   "execution_count": 5,
   "metadata": {},
   "outputs": [
    {
     "name": "stdout",
     "output_type": "stream",
     "text": [
      "<class 'pandas.core.frame.DataFrame'>\n",
      "RangeIndex: 1000 entries, 0 to 999\n",
      "Data columns (total 21 columns):\n",
      " #   Column    Non-Null Count  Dtype\n",
      "---  ------    --------------  -----\n",
      " 0   laufkont  1000 non-null   int64\n",
      " 1   laufzeit  1000 non-null   int64\n",
      " 2   moral     1000 non-null   int64\n",
      " 3   verw      1000 non-null   int64\n",
      " 4   hoehe     1000 non-null   int64\n",
      " 5   sparkont  1000 non-null   int64\n",
      " 6   beszeit   1000 non-null   int64\n",
      " 7   rate      1000 non-null   int64\n",
      " 8   famges    1000 non-null   int64\n",
      " 9   buerge    1000 non-null   int64\n",
      " 10  wohnzeit  1000 non-null   int64\n",
      " 11  verm      1000 non-null   int64\n",
      " 12  alter     1000 non-null   int64\n",
      " 13  weitkred  1000 non-null   int64\n",
      " 14  wohn      1000 non-null   int64\n",
      " 15  bishkred  1000 non-null   int64\n",
      " 16  beruf     1000 non-null   int64\n",
      " 17  pers      1000 non-null   int64\n",
      " 18  telef     1000 non-null   int64\n",
      " 19  gastarb   1000 non-null   int64\n",
      " 20  kredit    1000 non-null   int64\n",
      "dtypes: int64(21)\n",
      "memory usage: 164.2 KB\n"
     ]
    }
   ],
   "source": [
    "df.info()"
   ]
  },
  {
   "cell_type": "code",
   "execution_count": 6,
   "metadata": {},
   "outputs": [],
   "source": [
    "input_n = df.drop(['kredit'], axis='columns')"
   ]
  },
  {
   "cell_type": "code",
   "execution_count": 7,
   "metadata": {},
   "outputs": [
    {
     "name": "stdout",
     "output_type": "stream",
     "text": [
      "     laufkont  laufzeit  moral  verw  hoehe  sparkont  beszeit  rate  famges  \\\n",
      "0           1        18      4     2   1049         1        2     4       2   \n",
      "1           1         9      4     0   2799         1        3     2       3   \n",
      "2           2        12      2     9    841         2        4     2       2   \n",
      "3           1        12      4     0   2122         1        3     3       3   \n",
      "4           1        12      4     0   2171         1        3     4       3   \n",
      "..        ...       ...    ...   ...    ...       ...      ...   ...     ...   \n",
      "995         1        24      2     3   1987         1        3     2       3   \n",
      "996         1        24      2     0   2303         1        5     4       3   \n",
      "997         4        21      4     0  12680         5        5     4       3   \n",
      "998         2        12      2     3   6468         5        1     2       3   \n",
      "999         1        30      2     2   6350         5        5     4       3   \n",
      "\n",
      "     buerge  wohnzeit  verm  alter  weitkred  wohn  bishkred  beruf  pers  \\\n",
      "0         1         4     2     21         3     1         1      3     2   \n",
      "1         1         2     1     36         3     1         2      3     1   \n",
      "2         1         4     1     23         3     1         1      2     2   \n",
      "3         1         2     1     39         3     1         2      2     1   \n",
      "4         1         4     2     38         1     2         2      2     2   \n",
      "..      ...       ...   ...    ...       ...   ...       ...    ...   ...   \n",
      "995       1         4     1     21         3     1         1      2     1   \n",
      "996       2         1     1     45         3     2         1      3     2   \n",
      "997       1         4     4     30         3     3         1      4     2   \n",
      "998       1         1     4     52         3     2         1      4     2   \n",
      "999       1         4     2     31         3     2         1      3     2   \n",
      "\n",
      "     telef  gastarb  \n",
      "0        1        2  \n",
      "1        1        2  \n",
      "2        1        2  \n",
      "3        1        1  \n",
      "4        1        1  \n",
      "..     ...      ...  \n",
      "995      1        2  \n",
      "996      1        2  \n",
      "997      2        2  \n",
      "998      2        2  \n",
      "999      1        2  \n",
      "\n",
      "[1000 rows x 20 columns]\n"
     ]
    }
   ],
   "source": [
    "print(input_n)"
   ]
  },
  {
   "cell_type": "code",
   "execution_count": 8,
   "metadata": {},
   "outputs": [],
   "source": [
    "target_n = df['kredit']"
   ]
  },
  {
   "cell_type": "code",
   "execution_count": 9,
   "metadata": {},
   "outputs": [
    {
     "name": "stdout",
     "output_type": "stream",
     "text": [
      "0      1\n",
      "1      1\n",
      "2      1\n",
      "3      1\n",
      "4      1\n",
      "      ..\n",
      "995    0\n",
      "996    0\n",
      "997    0\n",
      "998    0\n",
      "999    0\n",
      "Name: kredit, Length: 1000, dtype: int64\n"
     ]
    }
   ],
   "source": [
    "print(target_n)"
   ]
  },
  {
   "cell_type": "markdown",
   "metadata": {},
   "source": [
    "### Let us leave out 30% of the data for testing after building the model for more realistic model performance report"
   ]
  },
  {
   "cell_type": "code",
   "execution_count": 10,
   "metadata": {},
   "outputs": [],
   "source": [
    "X_Train, X_Test, y_Train, y_Test = train_test_split(input_n, target_n, test_size=0.30, random_state=0)"
   ]
  },
  {
   "cell_type": "markdown",
   "metadata": {},
   "source": [
    "## i) Build the model with Logistic Regression Method"
   ]
  },
  {
   "cell_type": "code",
   "execution_count": 11,
   "metadata": {},
   "outputs": [],
   "source": [
    "kfold = StratifiedKFold(n_splits=10)\n",
    "m_lr = LogisticRegression() \n",
    "\n",
    "tprs = []\n",
    "aucs = []\n",
    "mean_fpr = np.linspace(0,1,100)\n",
    "i = 1\n",
    "\n",
    "recalls =[]\n",
    "precisions =[]\n",
    "f1scores =[]"
   ]
  },
  {
   "cell_type": "code",
   "execution_count": 12,
   "metadata": {},
   "outputs": [
    {
     "data": {
      "image/png": "[encoded data removed]",
      "text/plain": [
       "<Figure size 432x288 with 1 Axes>"
      ]
     },
     "metadata": {
      "needs_background": "light"
     },
     "output_type": "display_data"
    }
   ],
   "source": [
    "x = X_Train\n",
    "y = y_Train\n",
    "for train,test in kfold.split(x,y):\n",
    "    model = m_lr.fit(x.iloc[train],y.iloc[train])\n",
    "    pred_prob = model.predict_proba(x.iloc[test])\n",
    "    pred = model.predict(x.iloc[test])\n",
    "\n",
    "    #prediction = m_rfc.fit(x[train],y[train]).predict_proba(x[test])\n",
    "    fpr, tpr, t = metrics.roc_curve(y.iloc[test], pred_prob[:, 1])\n",
    "    recalls.append(metrics.recall_score(y.iloc[test], pred))\n",
    "    precisions.append(metrics.precision_score(y.iloc[test], pred))\n",
    "    f1scores.append(metrics.f1_score(y.iloc[test], pred))\n",
    "    tprs.append(np.interp(mean_fpr, fpr, tpr))\n",
    "    roc_auc = metrics.auc(fpr, tpr)\n",
    "    aucs.append(roc_auc)\n",
    "    plt.plot(fpr, tpr, lw=2, alpha=0.3, label='ROC fold %d (AUC = %0.2f)' % (i, roc_auc))\n",
    "    i= i+1\n",
    "\n",
    "plt.plot([0,1],[0,1],linestyle = '--',lw = 2,color = 'black')\n",
    "mean_tpr = np.mean(tprs, axis=0)\n",
    "mean_auc = metrics.auc(mean_fpr, mean_tpr)\n",
    "plt.plot(mean_fpr, mean_tpr, color='blue',\n",
    "         label=r'Mean ROC (AUC = %0.2f )' % (mean_auc),lw=2, alpha=1)\n",
    "\n",
    "plt.xlabel('False Positive Rate')\n",
    "plt.ylabel('True Positive Rate')\n",
    "plt.title('ROC')\n",
    "plt.legend(loc=\"lower right\")\n",
    "plt.show()"
   ]
  },
  {
   "cell_type": "code",
   "execution_count": 13,
   "metadata": {},
   "outputs": [
    {
     "name": "stdout",
     "output_type": "stream",
     "text": [
      "[0.94, 0.9, 0.76, 0.86, 0.9, 0.92, 0.88, 0.94, 0.84, 0.94]\n",
      "0.8879999999999999\n"
     ]
    }
   ],
   "source": [
    "print(recalls)\n",
    "print(np.mean(recalls))"
   ]
  },
  {
   "cell_type": "code",
   "execution_count": 14,
   "metadata": {},
   "outputs": [
    {
     "name": "stdout",
     "output_type": "stream",
     "text": [
      "[0.7966101694915254, 0.8181818181818182, 0.8260869565217391, 0.7678571428571429, 0.7758620689655172, 0.8070175438596491, 0.7457627118644068, 0.7966101694915254, 0.75, 0.8103448275862069]\n",
      "0.789433340881953\n"
     ]
    }
   ],
   "source": [
    "print(precisions)\n",
    "print(np.mean(precisions))"
   ]
  },
  {
   "cell_type": "code",
   "execution_count": 15,
   "metadata": {},
   "outputs": [
    {
     "name": "stdout",
     "output_type": "stream",
     "text": [
      "[0.8623853211009174, 0.8571428571428572, 0.7916666666666667, 0.8113207547169812, 0.8333333333333334, 0.8598130841121495, 0.8073394495412843, 0.8623853211009174, 0.7924528301886793, 0.8703703703703703]\n",
      "0.8348209988274157\n"
     ]
    }
   ],
   "source": [
    "print(f1scores)\n",
    "print(np.mean(f1scores))"
   ]
  },
  {
   "cell_type": "code",
   "execution_count": 16,
   "metadata": {},
   "outputs": [
    {
     "name": "stdout",
     "output_type": "stream",
     "text": [
      "[0.8109999999999999, 0.802, 0.785, 0.727, 0.775, 0.848, 0.73, 0.777, 0.548, 0.804]\n",
      "0.7607\n"
     ]
    }
   ],
   "source": [
    "print(aucs)\n",
    "print(np.mean(aucs))"
   ]
  },
  {
   "cell_type": "markdown",
   "metadata": {},
   "source": [
    "Report the performance metrics with the left out testing data:"
   ]
  },
  {
   "cell_type": "code",
   "execution_count": 17,
   "metadata": {},
   "outputs": [],
   "source": [
    "y_pred = m_lr.predict(X_Test)"
   ]
  },
  {
   "cell_type": "code",
   "execution_count": 18,
   "metadata": {},
   "outputs": [
    {
     "name": "stdout",
     "output_type": "stream",
     "text": [
      "              precision    recall  f1-score   support\n",
      "\n",
      "           0       0.74      0.37      0.49       100\n",
      "           1       0.75      0.94      0.83       200\n",
      "\n",
      "    accuracy                           0.75       300\n",
      "   macro avg       0.74      0.65      0.66       300\n",
      "weighted avg       0.75      0.75      0.72       300\n",
      "\n"
     ]
    }
   ],
   "source": [
    "scores_lr = classification_report(y_Test, y_pred, labels=[0, 1])\n",
    "auc_lr = roc_auc_score(y_Test, y_pred)\n",
    "print(scores_lr)"
   ]
  },
  {
   "cell_type": "code",
   "execution_count": 19,
   "metadata": {},
   "outputs": [
    {
     "data": {
      "text/plain": [
       "0.6525000000000001"
      ]
     },
     "execution_count": 19,
     "metadata": {},
     "output_type": "execute_result"
    }
   ],
   "source": [
    "auc_lr"
   ]
  },
  {
   "cell_type": "code",
   "execution_count": null,
   "metadata": {},
   "outputs": [],
   "source": []
  },
  {
   "cell_type": "markdown",
   "metadata": {},
   "source": [
    "## ii) Build the model with Decision Tree"
   ]
  },
  {
   "cell_type": "code",
   "execution_count": 20,
   "metadata": {},
   "outputs": [],
   "source": [
    "m_dt = DecisionTreeClassifier() \n",
    "\n",
    "tprs = []\n",
    "aucs = []\n",
    "mean_fpr = np.linspace(0,1,100)\n",
    "i = 1\n",
    "\n",
    "recalls =[]\n",
    "precisions =[]\n",
    "f1scores =[]"
   ]
  },
  {
   "cell_type": "code",
   "execution_count": 21,
   "metadata": {},
   "outputs": [
    {
     "data": {
      "image/png": "[encoded data removed]",
      "text/plain": [
       "<Figure size 432x288 with 1 Axes>"
      ]
     },
     "metadata": {
      "needs_background": "light"
     },
     "output_type": "display_data"
    }
   ],
   "source": [
    "x = X_Train\n",
    "y = y_Train\n",
    "for train,test in kfold.split(x,y):\n",
    "    model = m_dt.fit(x.iloc[train],y.iloc[train])\n",
    "    pred_prob = model.predict_proba(x.iloc[test])\n",
    "    pred = model.predict(x.iloc[test])\n",
    "\n",
    "    #prediction = m_rfc.fit(x[train],y[train]).predict_proba(x[test])\n",
    "    fpr, tpr, t = metrics.roc_curve(y.iloc[test], pred_prob[:, 1])\n",
    "    recalls.append(metrics.recall_score(y.iloc[test], pred))\n",
    "    precisions.append(metrics.precision_score(y.iloc[test], pred))\n",
    "    f1scores.append(metrics.f1_score(y.iloc[test], pred))\n",
    "    tprs.append(np.interp(mean_fpr, fpr, tpr))\n",
    "    roc_auc = metrics.auc(fpr, tpr)\n",
    "    aucs.append(roc_auc)\n",
    "    plt.plot(fpr, tpr, lw=2, alpha=0.3, label='ROC fold %d (AUC = %0.2f)' % (i, roc_auc))\n",
    "    i= i+1\n",
    "\n",
    "plt.plot([0,1],[0,1],linestyle = '--',lw = 2,color = 'black')\n",
    "mean_tpr = np.mean(tprs, axis=0)\n",
    "mean_auc = metrics.auc(mean_fpr, mean_tpr)\n",
    "plt.plot(mean_fpr, mean_tpr, color='blue',\n",
    "         label=r'Mean ROC (AUC = %0.2f )' % (mean_auc),lw=2, alpha=1)\n",
    "\n",
    "plt.xlabel('False Positive Rate')\n",
    "plt.ylabel('True Positive Rate')\n",
    "plt.title('ROC')\n",
    "plt.legend(loc=\"lower right\")\n",
    "plt.show()"
   ]
  },
  {
   "cell_type": "code",
   "execution_count": 22,
   "metadata": {},
   "outputs": [
    {
     "name": "stdout",
     "output_type": "stream",
     "text": [
      "[0.66, 0.7, 0.76, 0.88, 0.7, 0.76, 0.8, 0.78, 0.64, 0.74]\n",
      "0.742\n"
     ]
    }
   ],
   "source": [
    "print(recalls)\n",
    "print(np.mean(recalls))"
   ]
  },
  {
   "cell_type": "code",
   "execution_count": 23,
   "metadata": {},
   "outputs": [
    {
     "name": "stdout",
     "output_type": "stream",
     "text": [
      "[0.7674418604651163, 0.7954545454545454, 0.8444444444444444, 0.7586206896551724, 0.7608695652173914, 0.8260869565217391, 0.7843137254901961, 0.7647058823529411, 0.7272727272727273, 0.7708333333333334]\n",
      "0.7800043730207606\n"
     ]
    }
   ],
   "source": [
    "print(precisions)\n",
    "print(np.mean(precisions))"
   ]
  },
  {
   "cell_type": "code",
   "execution_count": 24,
   "metadata": {},
   "outputs": [
    {
     "name": "stdout",
     "output_type": "stream",
     "text": [
      "[0.7096774193548386, 0.7446808510638298, 0.8, 0.8148148148148148, 0.7291666666666667, 0.7916666666666667, 0.792079207920792, 0.7722772277227723, 0.6808510638297872, 0.7551020408163266]\n",
      "0.7590315958856495\n"
     ]
    }
   ],
   "source": [
    "print(f1scores)\n",
    "print(np.mean(f1scores))"
   ]
  },
  {
   "cell_type": "code",
   "execution_count": 25,
   "metadata": {},
   "outputs": [
    {
     "name": "stdout",
     "output_type": "stream",
     "text": [
      "[0.5800000000000001, 0.625, 0.7050000000000001, 0.5900000000000001, 0.575, 0.68, 0.625, 0.5900000000000001, 0.52, 0.595]\n",
      "0.6085\n"
     ]
    }
   ],
   "source": [
    "print(aucs)\n",
    "print(np.mean(aucs))"
   ]
  },
  {
   "cell_type": "markdown",
   "metadata": {},
   "source": [
    "Report the performance metrics with the left out testing data:"
   ]
  },
  {
   "cell_type": "code",
   "execution_count": 26,
   "metadata": {},
   "outputs": [],
   "source": [
    "y_pred = m_dt.predict(X_Test)"
   ]
  },
  {
   "cell_type": "code",
   "execution_count": 27,
   "metadata": {},
   "outputs": [
    {
     "name": "stdout",
     "output_type": "stream",
     "text": [
      "              precision    recall  f1-score   support\n",
      "\n",
      "           0       0.56      0.39      0.46       100\n",
      "           1       0.73      0.84      0.79       200\n",
      "\n",
      "    accuracy                           0.69       300\n",
      "   macro avg       0.65      0.62      0.62       300\n",
      "weighted avg       0.68      0.69      0.68       300\n",
      "\n"
     ]
    }
   ],
   "source": [
    "scores_lr = classification_report(y_Test, y_pred, labels=[0, 1])\n",
    "auc_lr = roc_auc_score(y_Test, y_pred)\n",
    "print(scores_lr)"
   ]
  },
  {
   "cell_type": "code",
   "execution_count": 28,
   "metadata": {},
   "outputs": [
    {
     "data": {
      "text/plain": [
       "0.6174999999999999"
      ]
     },
     "execution_count": 28,
     "metadata": {},
     "output_type": "execute_result"
    }
   ],
   "source": [
    "auc_lr"
   ]
  },
  {
   "cell_type": "code",
   "execution_count": null,
   "metadata": {},
   "outputs": [],
   "source": []
  },
  {
   "cell_type": "markdown",
   "metadata": {},
   "source": [
    "## iii) Build the model with Naive Bayes"
   ]
  },
  {
   "cell_type": "code",
   "execution_count": 29,
   "metadata": {},
   "outputs": [],
   "source": [
    "m_gnb = GaussianNB() \n",
    "\n",
    "tprs = []\n",
    "aucs = []\n",
    "mean_fpr = np.linspace(0,1,100)\n",
    "i = 1\n",
    "\n",
    "recalls =[]\n",
    "precisions =[]\n",
    "f1scores =[]"
   ]
  },
  {
   "cell_type": "code",
   "execution_count": 30,
   "metadata": {},
   "outputs": [
    {
     "data": {
      "image/png": "[encoded data removed]",
      "text/plain": [
       "<Figure size 432x288 with 1 Axes>"
      ]
     },
     "metadata": {
      "needs_background": "light"
     },
     "output_type": "display_data"
    }
   ],
   "source": [
    "x = X_Train\n",
    "y = y_Train\n",
    "for train,test in kfold.split(x,y):\n",
    "    model = m_gnb.fit(x.iloc[train],y.iloc[train])\n",
    "    pred_prob = model.predict_proba(x.iloc[test])\n",
    "    pred = model.predict(x.iloc[test])\n",
    "\n",
    "    #prediction = m_rfc.fit(x[train],y[train]).predict_proba(x[test])\n",
    "    fpr, tpr, t = metrics.roc_curve(y.iloc[test], pred_prob[:, 1])\n",
    "    recalls.append(metrics.recall_score(y.iloc[test], pred))\n",
    "    precisions.append(metrics.precision_score(y.iloc[test], pred))\n",
    "    f1scores.append(metrics.f1_score(y.iloc[test], pred))\n",
    "    tprs.append(np.interp(mean_fpr, fpr, tpr))\n",
    "    roc_auc = metrics.auc(fpr, tpr)\n",
    "    aucs.append(roc_auc)\n",
    "    plt.plot(fpr, tpr, lw=2, alpha=0.3, label='ROC fold %d (AUC = %0.2f)' % (i, roc_auc))\n",
    "    i= i+1\n",
    "\n",
    "plt.plot([0,1],[0,1],linestyle = '--',lw = 2,color = 'black')\n",
    "mean_tpr = np.mean(tprs, axis=0)\n",
    "mean_auc = metrics.auc(mean_fpr, mean_tpr)\n",
    "plt.plot(mean_fpr, mean_tpr, color='blue',\n",
    "         label=r'Mean ROC (AUC = %0.2f )' % (mean_auc),lw=2, alpha=1)\n",
    "\n",
    "plt.xlabel('False Positive Rate')\n",
    "plt.ylabel('True Positive Rate')\n",
    "plt.title('ROC')\n",
    "plt.legend(loc=\"lower right\")\n",
    "plt.show()"
   ]
  },
  {
   "cell_type": "code",
   "execution_count": 31,
   "metadata": {},
   "outputs": [
    {
     "name": "stdout",
     "output_type": "stream",
     "text": [
      "[0.86, 0.8, 0.76, 0.78, 0.66, 0.74, 0.78, 0.78, 0.74, 0.82]\n",
      "0.772\n"
     ]
    }
   ],
   "source": [
    "print(recalls)\n",
    "print(np.mean(recalls))"
   ]
  },
  {
   "cell_type": "code",
   "execution_count": 32,
   "metadata": {},
   "outputs": [
    {
     "name": "stdout",
     "output_type": "stream",
     "text": [
      "[0.8113207547169812, 0.8695652173913043, 0.8837209302325582, 0.7959183673469388, 0.8048780487804879, 0.8409090909090909, 0.8297872340425532, 0.78, 0.7551020408163265, 0.8367346938775511]\n",
      "0.8207936378113793\n"
     ]
    }
   ],
   "source": [
    "print(precisions)\n",
    "print(np.mean(precisions))"
   ]
  },
  {
   "cell_type": "code",
   "execution_count": 33,
   "metadata": {},
   "outputs": [
    {
     "name": "stdout",
     "output_type": "stream",
     "text": [
      "[0.8349514563106797, 0.8333333333333333, 0.8172043010752689, 0.7878787878787878, 0.7252747252747254, 0.7872340425531915, 0.8041237113402062, 0.78, 0.7474747474747474, 0.8282828282828283]\n",
      "0.7945757933523769\n"
     ]
    }
   ],
   "source": [
    "print(f1scores)\n",
    "print(np.mean(f1scores))"
   ]
  },
  {
   "cell_type": "code",
   "execution_count": 34,
   "metadata": {},
   "outputs": [
    {
     "name": "stdout",
     "output_type": "stream",
     "text": [
      "[0.78, 0.7949999999999999, 0.78, 0.744, 0.689, 0.7959999999999999, 0.762, 0.6689999999999999, 0.632, 0.858]\n",
      "0.7505\n"
     ]
    }
   ],
   "source": [
    "print(aucs)\n",
    "print(np.mean(aucs))"
   ]
  },
  {
   "cell_type": "markdown",
   "metadata": {},
   "source": [
    "Report the performance metrics with the left out testing data:"
   ]
  },
  {
   "cell_type": "code",
   "execution_count": 35,
   "metadata": {},
   "outputs": [],
   "source": [
    "y_pred = m_gnb.predict(X_Test)"
   ]
  },
  {
   "cell_type": "code",
   "execution_count": 36,
   "metadata": {},
   "outputs": [
    {
     "name": "stdout",
     "output_type": "stream",
     "text": [
      "              precision    recall  f1-score   support\n",
      "\n",
      "           0       0.63      0.64      0.64       100\n",
      "           1       0.82      0.81      0.82       200\n",
      "\n",
      "    accuracy                           0.76       300\n",
      "   macro avg       0.73      0.73      0.73       300\n",
      "weighted avg       0.76      0.76      0.76       300\n",
      "\n"
     ]
    }
   ],
   "source": [
    "scores_lr = classification_report(y_Test, y_pred, labels=[0, 1])\n",
    "auc_lr = roc_auc_score(y_Test, y_pred)\n",
    "print(scores_lr)"
   ]
  },
  {
   "cell_type": "code",
   "execution_count": 37,
   "metadata": {},
   "outputs": [
    {
     "data": {
      "text/plain": [
       "0.7275"
      ]
     },
     "execution_count": 37,
     "metadata": {},
     "output_type": "execute_result"
    }
   ],
   "source": [
    "auc_lr"
   ]
  },
  {
   "cell_type": "code",
   "execution_count": null,
   "metadata": {},
   "outputs": [],
   "source": []
  },
  {
   "cell_type": "markdown",
   "metadata": {},
   "source": [
    "## iv) Build the model with Random Forest"
   ]
  },
  {
   "cell_type": "code",
   "execution_count": 38,
   "metadata": {},
   "outputs": [],
   "source": [
    "m_rfc = RandomForestClassifier() \n",
    "\n",
    "tprs = []\n",
    "aucs = []\n",
    "mean_fpr = np.linspace(0,1,100)\n",
    "i = 1\n",
    "\n",
    "recalls =[]\n",
    "precisions =[]\n",
    "f1scores =[]"
   ]
  },
  {
   "cell_type": "code",
   "execution_count": 39,
   "metadata": {},
   "outputs": [
    {
     "data": {
      "image/png": "[encoded data removed]",
      "text/plain": [
       "<Figure size 432x288 with 1 Axes>"
      ]
     },
     "metadata": {
      "needs_background": "light"
     },
     "output_type": "display_data"
    }
   ],
   "source": [
    "x = X_Train\n",
    "y = y_Train\n",
    "for train,test in kfold.split(x,y):\n",
    "    model = m_rfc.fit(x.iloc[train],y.iloc[train])\n",
    "    pred_prob = model.predict_proba(x.iloc[test])\n",
    "    pred = model.predict(x.iloc[test])\n",
    "\n",
    "    #prediction = m_rfc.fit(x[train],y[train]).predict_proba(x[test])\n",
    "    fpr, tpr, t = metrics.roc_curve(y.iloc[test], pred_prob[:, 1])\n",
    "    recalls.append(metrics.recall_score(y.iloc[test], pred))\n",
    "    precisions.append(metrics.precision_score(y.iloc[test], pred))\n",
    "    f1scores.append(metrics.f1_score(y.iloc[test], pred))\n",
    "    tprs.append(np.interp(mean_fpr, fpr, tpr))\n",
    "    roc_auc = metrics.auc(fpr, tpr)\n",
    "    aucs.append(roc_auc)\n",
    "    plt.plot(fpr, tpr, lw=2, alpha=0.3, label='ROC fold %d (AUC = %0.2f)' % (i, roc_auc))\n",
    "    i= i+1\n",
    "\n",
    "plt.plot([0,1],[0,1],linestyle = '--',lw = 2,color = 'black')\n",
    "mean_tpr = np.mean(tprs, axis=0)\n",
    "mean_auc = metrics.auc(mean_fpr, mean_tpr)\n",
    "plt.plot(mean_fpr, mean_tpr, color='blue',\n",
    "         label=r'Mean ROC (AUC = %0.2f )' % (mean_auc),lw=2, alpha=1)\n",
    "\n",
    "plt.xlabel('False Positive Rate')\n",
    "plt.ylabel('True Positive Rate')\n",
    "plt.title('ROC')\n",
    "plt.legend(loc=\"lower right\")\n",
    "plt.show()"
   ]
  },
  {
   "cell_type": "code",
   "execution_count": 40,
   "metadata": {},
   "outputs": [
    {
     "name": "stdout",
     "output_type": "stream",
     "text": [
      "[0.92, 0.96, 0.92, 0.92, 0.82, 0.94, 0.88, 0.96, 0.94, 0.98]\n",
      "0.924\n"
     ]
    }
   ],
   "source": [
    "print(recalls)\n",
    "print(np.mean(recalls))"
   ]
  },
  {
   "cell_type": "code",
   "execution_count": 41,
   "metadata": {},
   "outputs": [
    {
     "name": "stdout",
     "output_type": "stream",
     "text": [
      "[0.7540983606557377, 0.8275862068965517, 0.8214285714285714, 0.7666666666666667, 0.7192982456140351, 0.7966101694915254, 0.7457627118644068, 0.8, 0.7580645161290323, 0.8166666666666667]\n",
      "0.7806182115413194\n"
     ]
    }
   ],
   "source": [
    "print(precisions)\n",
    "print(np.mean(precisions))"
   ]
  },
  {
   "cell_type": "code",
   "execution_count": 42,
   "metadata": {},
   "outputs": [
    {
     "name": "stdout",
     "output_type": "stream",
     "text": [
      "[0.8288288288288288, 0.888888888888889, 0.8679245283018867, 0.8363636363636363, 0.7663551401869159, 0.8623853211009174, 0.8073394495412843, 0.8727272727272728, 0.8392857142857143, 0.890909090909091]\n",
      "0.8461007871134436\n"
     ]
    }
   ],
   "source": [
    "print(f1scores)\n",
    "print(np.mean(f1scores))"
   ]
  },
  {
   "cell_type": "code",
   "execution_count": 43,
   "metadata": {},
   "outputs": [
    {
     "name": "stdout",
     "output_type": "stream",
     "text": [
      "[0.7575, 0.833, 0.8255, 0.7855000000000001, 0.672, 0.823, 0.773, 0.8160000000000001, 0.636, 0.894]\n",
      "0.7815500000000001\n"
     ]
    }
   ],
   "source": [
    "print(aucs)\n",
    "print(np.mean(aucs))"
   ]
  },
  {
   "cell_type": "markdown",
   "metadata": {},
   "source": [
    "Report the performance metrics with the left out testing data:"
   ]
  },
  {
   "cell_type": "code",
   "execution_count": 44,
   "metadata": {},
   "outputs": [],
   "source": [
    "y_pred = m_rfc.predict(X_Test)"
   ]
  },
  {
   "cell_type": "code",
   "execution_count": 45,
   "metadata": {},
   "outputs": [
    {
     "name": "stdout",
     "output_type": "stream",
     "text": [
      "              precision    recall  f1-score   support\n",
      "\n",
      "           0       0.73      0.30      0.43       100\n",
      "           1       0.73      0.94      0.82       200\n",
      "\n",
      "    accuracy                           0.73       300\n",
      "   macro avg       0.73      0.62      0.62       300\n",
      "weighted avg       0.73      0.73      0.69       300\n",
      "\n"
     ]
    }
   ],
   "source": [
    "scores_lr = classification_report(y_Test, y_pred, labels=[0, 1])\n",
    "auc_lr = roc_auc_score(y_Test, y_pred)\n",
    "print(scores_lr)"
   ]
  },
  {
   "cell_type": "code",
   "execution_count": 46,
   "metadata": {},
   "outputs": [
    {
     "data": {
      "text/plain": [
       "0.6225"
      ]
     },
     "execution_count": 46,
     "metadata": {},
     "output_type": "execute_result"
    }
   ],
   "source": [
    "auc_lr"
   ]
  },
  {
   "cell_type": "code",
   "execution_count": null,
   "metadata": {},
   "outputs": [],
   "source": []
  },
  {
   "cell_type": "markdown",
   "metadata": {},
   "source": [
    "## v) Build the model with XGBoost"
   ]
  },
  {
   "cell_type": "markdown",
   "metadata": {},
   "source": [
    "### Here we use Gradient Boosting Classifier for XGBoost"
   ]
  },
  {
   "cell_type": "code",
   "execution_count": 47,
   "metadata": {},
   "outputs": [],
   "source": [
    "m_gbc = GradientBoostingClassifier() \n",
    "\n",
    "tprs = []\n",
    "aucs = []\n",
    "mean_fpr = np.linspace(0,1,100)\n",
    "i = 1\n",
    "\n",
    "recalls =[]\n",
    "precisions =[]\n",
    "f1scores =[]"
   ]
  },
  {
   "cell_type": "code",
   "execution_count": 48,
   "metadata": {},
   "outputs": [
    {
     "data": {
      "image/png": "[encoded data removed]",
      "text/plain": [
       "<Figure size 432x288 with 1 Axes>"
      ]
     },
     "metadata": {
      "needs_background": "light"
     },
     "output_type": "display_data"
    }
   ],
   "source": [
    "x = X_Train\n",
    "y = y_Train\n",
    "for train,test in kfold.split(x,y):\n",
    "    model = m_gbc.fit(x.iloc[train],y.iloc[train])\n",
    "    pred_prob = model.predict_proba(x.iloc[test])\n",
    "    pred = model.predict(x.iloc[test])\n",
    "\n",
    "    #prediction = m_rfc.fit(x[train],y[train]).predict_proba(x[test])\n",
    "    fpr, tpr, t = metrics.roc_curve(y.iloc[test], pred_prob[:, 1])\n",
    "    recalls.append(metrics.recall_score(y.iloc[test], pred))\n",
    "    precisions.append(metrics.precision_score(y.iloc[test], pred))\n",
    "    f1scores.append(metrics.f1_score(y.iloc[test], pred))\n",
    "    tprs.append(np.interp(mean_fpr, fpr, tpr))\n",
    "    roc_auc = metrics.auc(fpr, tpr)\n",
    "    aucs.append(roc_auc)\n",
    "    plt.plot(fpr, tpr, lw=2, alpha=0.3, label='ROC fold %d (AUC = %0.2f)' % (i, roc_auc))\n",
    "    i= i+1\n",
    "\n",
    "plt.plot([0,1],[0,1],linestyle = '--',lw = 2,color = 'black')\n",
    "mean_tpr = np.mean(tprs, axis=0)\n",
    "mean_auc = metrics.auc(mean_fpr, mean_tpr)\n",
    "plt.plot(mean_fpr, mean_tpr, color='blue',\n",
    "         label=r'Mean ROC (AUC = %0.2f )' % (mean_auc),lw=2, alpha=1)\n",
    "\n",
    "plt.xlabel('False Positive Rate')\n",
    "plt.ylabel('True Positive Rate')\n",
    "plt.title('ROC')\n",
    "plt.legend(loc=\"lower right\")\n",
    "plt.show()"
   ]
  },
  {
   "cell_type": "code",
   "execution_count": 49,
   "metadata": {},
   "outputs": [
    {
     "name": "stdout",
     "output_type": "stream",
     "text": [
      "[0.88, 0.92, 0.8, 0.84, 0.82, 0.92, 0.9, 0.94, 0.86, 0.94]\n",
      "0.882\n"
     ]
    }
   ],
   "source": [
    "print(recalls)\n",
    "print(np.mean(recalls))"
   ]
  },
  {
   "cell_type": "code",
   "execution_count": 50,
   "metadata": {},
   "outputs": [
    {
     "name": "stdout",
     "output_type": "stream",
     "text": [
      "[0.7719298245614035, 0.8363636363636363, 0.851063829787234, 0.75, 0.7321428571428571, 0.7540983606557377, 0.7894736842105263, 0.8103448275862069, 0.7543859649122807, 0.8392857142857143]\n",
      "0.7889088699505596\n"
     ]
    }
   ],
   "source": [
    "print(precisions)\n",
    "print(np.mean(precisions))"
   ]
  },
  {
   "cell_type": "code",
   "execution_count": 51,
   "metadata": {},
   "outputs": [
    {
     "name": "stdout",
     "output_type": "stream",
     "text": [
      "[0.822429906542056, 0.8761904761904761, 0.8247422680412372, 0.7924528301886793, 0.7735849056603773, 0.8288288288288288, 0.8411214953271027, 0.8703703703703703, 0.8037383177570094, 0.8867924528301886]\n",
      "0.8320251851736324\n"
     ]
    }
   ],
   "source": [
    "print(f1scores)\n",
    "print(np.mean(f1scores))"
   ]
  },
  {
   "cell_type": "code",
   "execution_count": 52,
   "metadata": {},
   "outputs": [
    {
     "name": "stdout",
     "output_type": "stream",
     "text": [
      "[0.74, 0.8440000000000001, 0.832, 0.765, 0.713, 0.842, 0.754, 0.826, 0.6539999999999999, 0.845]\n",
      "0.7815\n"
     ]
    }
   ],
   "source": [
    "print(aucs)\n",
    "print(np.mean(aucs))"
   ]
  },
  {
   "cell_type": "markdown",
   "metadata": {},
   "source": [
    "Report the performance metrics with the left out testing data:"
   ]
  },
  {
   "cell_type": "code",
   "execution_count": 53,
   "metadata": {},
   "outputs": [],
   "source": [
    "y_pred = m_gbc.predict(X_Test)"
   ]
  },
  {
   "cell_type": "code",
   "execution_count": 54,
   "metadata": {},
   "outputs": [
    {
     "name": "stdout",
     "output_type": "stream",
     "text": [
      "              precision    recall  f1-score   support\n",
      "\n",
      "           0       0.72      0.34      0.46       100\n",
      "           1       0.74      0.94      0.83       200\n",
      "\n",
      "    accuracy                           0.74       300\n",
      "   macro avg       0.73      0.64      0.64       300\n",
      "weighted avg       0.73      0.74      0.70       300\n",
      "\n"
     ]
    }
   ],
   "source": [
    "scores_lr = classification_report(y_Test, y_pred, labels=[0, 1])\n",
    "auc_lr = roc_auc_score(y_Test, y_pred)\n",
    "print(scores_lr)"
   ]
  },
  {
   "cell_type": "code",
   "execution_count": 55,
   "metadata": {},
   "outputs": [
    {
     "data": {
      "text/plain": [
       "0.6375"
      ]
     },
     "execution_count": 55,
     "metadata": {},
     "output_type": "execute_result"
    }
   ],
   "source": [
    "auc_lr"
   ]
  },
  {
   "cell_type": "code",
   "execution_count": null,
   "metadata": {},
   "outputs": [],
   "source": []
  },
  {
   "cell_type": "markdown",
   "metadata": {},
   "source": [
    "## Fairness report of the models"
   ]
  },
  {
   "cell_type": "markdown",
   "metadata": {},
   "source": [
    "Because of the fairness computation needs the protected attribute to be binary, let us first convert the feature into binary coding:"
   ]
  },
  {
   "cell_type": "code",
   "execution_count": 56,
   "metadata": {},
   "outputs": [
    {
     "name": "stdout",
     "output_type": "stream",
     "text": [
      "Unique Values of gastarb: [1 2]\n"
     ]
    }
   ],
   "source": [
    "print(\"Unique Values of gastarb: {}\".format(np.sort(X_Test.gastarb.unique())))"
   ]
  },
  {
   "cell_type": "code",
   "execution_count": 57,
   "metadata": {},
   "outputs": [],
   "source": [
    "le_gastarb = LabelEncoder()"
   ]
  },
  {
   "cell_type": "code",
   "execution_count": 58,
   "metadata": {},
   "outputs": [
    {
     "name": "stderr",
     "output_type": "stream",
     "text": [
      "<ipython-input-58-310be514fe87>:1: SettingWithCopyWarning: \n",
      "A value is trying to be set on a copy of a slice from a DataFrame.\n",
      "Try using .loc[row_indexer,col_indexer] = value instead\n",
      "\n",
      "See the caveats in the documentation: https://pandas.pydata.org/pandas-docs/stable/user_guide/indexing.html#returning-a-view-versus-a-copy\n",
      "  X_Test['gastarb_n'] = le_gastarb.fit_transform(X_Test['gastarb'])\n"
     ]
    }
   ],
   "source": [
    "X_Test['gastarb_n'] = le_gastarb.fit_transform(X_Test['gastarb'])"
   ]
  },
  {
   "cell_type": "code",
   "execution_count": 59,
   "metadata": {},
   "outputs": [
    {
     "data": {
      "text/html": [
       "<div>\n",
       "<style scoped>\n",
       "    .dataframe tbody tr th:only-of-type {\n",
       "        vertical-align: middle;\n",
       "    }\n",
       "\n",
       "    .dataframe tbody tr th {\n",
       "        vertical-align: top;\n",
       "    }\n",
       "\n",
       "    .dataframe thead th {\n",
       "        text-align: right;\n",
       "    }\n",
       "</style>\n",
       "<table border=\"1\" class=\"dataframe\">\n",
       "  <thead>\n",
       "    <tr style=\"text-align: right;\">\n",
       "      <th></th>\n",
       "      <th>laufkont</th>\n",
       "      <th>laufzeit</th>\n",
       "      <th>moral</th>\n",
       "      <th>verw</th>\n",
       "      <th>hoehe</th>\n",
       "      <th>sparkont</th>\n",
       "      <th>beszeit</th>\n",
       "      <th>rate</th>\n",
       "      <th>famges</th>\n",
       "      <th>buerge</th>\n",
       "      <th>...</th>\n",
       "      <th>verm</th>\n",
       "      <th>alter</th>\n",
       "      <th>weitkred</th>\n",
       "      <th>wohn</th>\n",
       "      <th>bishkred</th>\n",
       "      <th>beruf</th>\n",
       "      <th>pers</th>\n",
       "      <th>telef</th>\n",
       "      <th>gastarb</th>\n",
       "      <th>gastarb_n</th>\n",
       "    </tr>\n",
       "  </thead>\n",
       "  <tbody>\n",
       "    <tr>\n",
       "      <th>993</th>\n",
       "      <td>1</td>\n",
       "      <td>18</td>\n",
       "      <td>4</td>\n",
       "      <td>0</td>\n",
       "      <td>3966</td>\n",
       "      <td>1</td>\n",
       "      <td>5</td>\n",
       "      <td>1</td>\n",
       "      <td>2</td>\n",
       "      <td>1</td>\n",
       "      <td>...</td>\n",
       "      <td>1</td>\n",
       "      <td>33</td>\n",
       "      <td>1</td>\n",
       "      <td>1</td>\n",
       "      <td>3</td>\n",
       "      <td>3</td>\n",
       "      <td>2</td>\n",
       "      <td>2</td>\n",
       "      <td>2</td>\n",
       "      <td>1</td>\n",
       "    </tr>\n",
       "    <tr>\n",
       "      <th>859</th>\n",
       "      <td>1</td>\n",
       "      <td>12</td>\n",
       "      <td>2</td>\n",
       "      <td>3</td>\n",
       "      <td>727</td>\n",
       "      <td>2</td>\n",
       "      <td>2</td>\n",
       "      <td>4</td>\n",
       "      <td>4</td>\n",
       "      <td>1</td>\n",
       "      <td>...</td>\n",
       "      <td>4</td>\n",
       "      <td>33</td>\n",
       "      <td>3</td>\n",
       "      <td>2</td>\n",
       "      <td>1</td>\n",
       "      <td>2</td>\n",
       "      <td>2</td>\n",
       "      <td>2</td>\n",
       "      <td>2</td>\n",
       "      <td>1</td>\n",
       "    </tr>\n",
       "    <tr>\n",
       "      <th>298</th>\n",
       "      <td>2</td>\n",
       "      <td>12</td>\n",
       "      <td>2</td>\n",
       "      <td>2</td>\n",
       "      <td>983</td>\n",
       "      <td>4</td>\n",
       "      <td>2</td>\n",
       "      <td>1</td>\n",
       "      <td>2</td>\n",
       "      <td>1</td>\n",
       "      <td>...</td>\n",
       "      <td>1</td>\n",
       "      <td>19</td>\n",
       "      <td>3</td>\n",
       "      <td>1</td>\n",
       "      <td>1</td>\n",
       "      <td>2</td>\n",
       "      <td>2</td>\n",
       "      <td>1</td>\n",
       "      <td>2</td>\n",
       "      <td>1</td>\n",
       "    </tr>\n",
       "    <tr>\n",
       "      <th>553</th>\n",
       "      <td>4</td>\n",
       "      <td>10</td>\n",
       "      <td>2</td>\n",
       "      <td>8</td>\n",
       "      <td>894</td>\n",
       "      <td>5</td>\n",
       "      <td>4</td>\n",
       "      <td>4</td>\n",
       "      <td>2</td>\n",
       "      <td>1</td>\n",
       "      <td>...</td>\n",
       "      <td>2</td>\n",
       "      <td>40</td>\n",
       "      <td>3</td>\n",
       "      <td>2</td>\n",
       "      <td>1</td>\n",
       "      <td>3</td>\n",
       "      <td>2</td>\n",
       "      <td>2</td>\n",
       "      <td>2</td>\n",
       "      <td>1</td>\n",
       "    </tr>\n",
       "    <tr>\n",
       "      <th>672</th>\n",
       "      <td>2</td>\n",
       "      <td>18</td>\n",
       "      <td>2</td>\n",
       "      <td>3</td>\n",
       "      <td>1113</td>\n",
       "      <td>1</td>\n",
       "      <td>3</td>\n",
       "      <td>4</td>\n",
       "      <td>2</td>\n",
       "      <td>3</td>\n",
       "      <td>...</td>\n",
       "      <td>1</td>\n",
       "      <td>26</td>\n",
       "      <td>3</td>\n",
       "      <td>2</td>\n",
       "      <td>1</td>\n",
       "      <td>2</td>\n",
       "      <td>1</td>\n",
       "      <td>1</td>\n",
       "      <td>2</td>\n",
       "      <td>1</td>\n",
       "    </tr>\n",
       "    <tr>\n",
       "      <th>971</th>\n",
       "      <td>2</td>\n",
       "      <td>27</td>\n",
       "      <td>0</td>\n",
       "      <td>9</td>\n",
       "      <td>8318</td>\n",
       "      <td>1</td>\n",
       "      <td>5</td>\n",
       "      <td>2</td>\n",
       "      <td>2</td>\n",
       "      <td>1</td>\n",
       "      <td>...</td>\n",
       "      <td>4</td>\n",
       "      <td>42</td>\n",
       "      <td>2</td>\n",
       "      <td>3</td>\n",
       "      <td>2</td>\n",
       "      <td>4</td>\n",
       "      <td>2</td>\n",
       "      <td>2</td>\n",
       "      <td>2</td>\n",
       "      <td>1</td>\n",
       "    </tr>\n",
       "    <tr>\n",
       "      <th>27</th>\n",
       "      <td>2</td>\n",
       "      <td>9</td>\n",
       "      <td>4</td>\n",
       "      <td>3</td>\n",
       "      <td>1154</td>\n",
       "      <td>1</td>\n",
       "      <td>5</td>\n",
       "      <td>2</td>\n",
       "      <td>3</td>\n",
       "      <td>1</td>\n",
       "      <td>...</td>\n",
       "      <td>1</td>\n",
       "      <td>37</td>\n",
       "      <td>3</td>\n",
       "      <td>2</td>\n",
       "      <td>3</td>\n",
       "      <td>2</td>\n",
       "      <td>2</td>\n",
       "      <td>1</td>\n",
       "      <td>2</td>\n",
       "      <td>1</td>\n",
       "    </tr>\n",
       "    <tr>\n",
       "      <th>231</th>\n",
       "      <td>4</td>\n",
       "      <td>6</td>\n",
       "      <td>0</td>\n",
       "      <td>3</td>\n",
       "      <td>426</td>\n",
       "      <td>1</td>\n",
       "      <td>5</td>\n",
       "      <td>4</td>\n",
       "      <td>4</td>\n",
       "      <td>1</td>\n",
       "      <td>...</td>\n",
       "      <td>3</td>\n",
       "      <td>39</td>\n",
       "      <td>3</td>\n",
       "      <td>2</td>\n",
       "      <td>1</td>\n",
       "      <td>2</td>\n",
       "      <td>2</td>\n",
       "      <td>1</td>\n",
       "      <td>2</td>\n",
       "      <td>1</td>\n",
       "    </tr>\n",
       "    <tr>\n",
       "      <th>306</th>\n",
       "      <td>1</td>\n",
       "      <td>6</td>\n",
       "      <td>2</td>\n",
       "      <td>2</td>\n",
       "      <td>1374</td>\n",
       "      <td>1</td>\n",
       "      <td>3</td>\n",
       "      <td>1</td>\n",
       "      <td>3</td>\n",
       "      <td>1</td>\n",
       "      <td>...</td>\n",
       "      <td>1</td>\n",
       "      <td>36</td>\n",
       "      <td>1</td>\n",
       "      <td>2</td>\n",
       "      <td>1</td>\n",
       "      <td>2</td>\n",
       "      <td>2</td>\n",
       "      <td>2</td>\n",
       "      <td>2</td>\n",
       "      <td>1</td>\n",
       "    </tr>\n",
       "    <tr>\n",
       "      <th>706</th>\n",
       "      <td>3</td>\n",
       "      <td>24</td>\n",
       "      <td>4</td>\n",
       "      <td>2</td>\n",
       "      <td>3617</td>\n",
       "      <td>5</td>\n",
       "      <td>5</td>\n",
       "      <td>4</td>\n",
       "      <td>3</td>\n",
       "      <td>2</td>\n",
       "      <td>...</td>\n",
       "      <td>4</td>\n",
       "      <td>20</td>\n",
       "      <td>3</td>\n",
       "      <td>1</td>\n",
       "      <td>2</td>\n",
       "      <td>3</td>\n",
       "      <td>2</td>\n",
       "      <td>1</td>\n",
       "      <td>2</td>\n",
       "      <td>1</td>\n",
       "    </tr>\n",
       "  </tbody>\n",
       "</table>\n",
       "<p>10 rows × 21 columns</p>\n",
       "</div>"
      ],
      "text/plain": [
       "     laufkont  laufzeit  moral  verw  hoehe  sparkont  beszeit  rate  famges  \\\n",
       "993         1        18      4     0   3966         1        5     1       2   \n",
       "859         1        12      2     3    727         2        2     4       4   \n",
       "298         2        12      2     2    983         4        2     1       2   \n",
       "553         4        10      2     8    894         5        4     4       2   \n",
       "672         2        18      2     3   1113         1        3     4       2   \n",
       "971         2        27      0     9   8318         1        5     2       2   \n",
       "27          2         9      4     3   1154         1        5     2       3   \n",
       "231         4         6      0     3    426         1        5     4       4   \n",
       "306         1         6      2     2   1374         1        3     1       3   \n",
       "706         3        24      4     2   3617         5        5     4       3   \n",
       "\n",
       "     buerge  ...  verm  alter  weitkred  wohn  bishkred  beruf  pers  telef  \\\n",
       "993       1  ...     1     33         1     1         3      3     2      2   \n",
       "859       1  ...     4     33         3     2         1      2     2      2   \n",
       "298       1  ...     1     19         3     1         1      2     2      1   \n",
       "553       1  ...     2     40         3     2         1      3     2      2   \n",
       "672       3  ...     1     26         3     2         1      2     1      1   \n",
       "971       1  ...     4     42         2     3         2      4     2      2   \n",
       "27        1  ...     1     37         3     2         3      2     2      1   \n",
       "231       1  ...     3     39         3     2         1      2     2      1   \n",
       "306       1  ...     1     36         1     2         1      2     2      2   \n",
       "706       2  ...     4     20         3     1         2      3     2      1   \n",
       "\n",
       "     gastarb  gastarb_n  \n",
       "993        2          1  \n",
       "859        2          1  \n",
       "298        2          1  \n",
       "553        2          1  \n",
       "672        2          1  \n",
       "971        2          1  \n",
       "27         2          1  \n",
       "231        2          1  \n",
       "306        2          1  \n",
       "706        2          1  \n",
       "\n",
       "[10 rows x 21 columns]"
      ]
     },
     "execution_count": 59,
     "metadata": {},
     "output_type": "execute_result"
    }
   ],
   "source": [
    "X_Test.head(10)"
   ]
  },
  {
   "cell_type": "code",
   "execution_count": 60,
   "metadata": {},
   "outputs": [],
   "source": [
    "X_Test.drop(['gastarb'], axis=1, inplace=True)"
   ]
  },
  {
   "cell_type": "code",
   "execution_count": 61,
   "metadata": {},
   "outputs": [
    {
     "data": {
      "text/html": [
       "<div>\n",
       "<style scoped>\n",
       "    .dataframe tbody tr th:only-of-type {\n",
       "        vertical-align: middle;\n",
       "    }\n",
       "\n",
       "    .dataframe tbody tr th {\n",
       "        vertical-align: top;\n",
       "    }\n",
       "\n",
       "    .dataframe thead th {\n",
       "        text-align: right;\n",
       "    }\n",
       "</style>\n",
       "<table border=\"1\" class=\"dataframe\">\n",
       "  <thead>\n",
       "    <tr style=\"text-align: right;\">\n",
       "      <th></th>\n",
       "      <th>laufkont</th>\n",
       "      <th>laufzeit</th>\n",
       "      <th>moral</th>\n",
       "      <th>verw</th>\n",
       "      <th>hoehe</th>\n",
       "      <th>sparkont</th>\n",
       "      <th>beszeit</th>\n",
       "      <th>rate</th>\n",
       "      <th>famges</th>\n",
       "      <th>buerge</th>\n",
       "      <th>wohnzeit</th>\n",
       "      <th>verm</th>\n",
       "      <th>alter</th>\n",
       "      <th>weitkred</th>\n",
       "      <th>wohn</th>\n",
       "      <th>bishkred</th>\n",
       "      <th>beruf</th>\n",
       "      <th>pers</th>\n",
       "      <th>telef</th>\n",
       "      <th>gastarb_n</th>\n",
       "    </tr>\n",
       "  </thead>\n",
       "  <tbody>\n",
       "    <tr>\n",
       "      <th>993</th>\n",
       "      <td>1</td>\n",
       "      <td>18</td>\n",
       "      <td>4</td>\n",
       "      <td>0</td>\n",
       "      <td>3966</td>\n",
       "      <td>1</td>\n",
       "      <td>5</td>\n",
       "      <td>1</td>\n",
       "      <td>2</td>\n",
       "      <td>1</td>\n",
       "      <td>4</td>\n",
       "      <td>1</td>\n",
       "      <td>33</td>\n",
       "      <td>1</td>\n",
       "      <td>1</td>\n",
       "      <td>3</td>\n",
       "      <td>3</td>\n",
       "      <td>2</td>\n",
       "      <td>2</td>\n",
       "      <td>1</td>\n",
       "    </tr>\n",
       "    <tr>\n",
       "      <th>859</th>\n",
       "      <td>1</td>\n",
       "      <td>12</td>\n",
       "      <td>2</td>\n",
       "      <td>3</td>\n",
       "      <td>727</td>\n",
       "      <td>2</td>\n",
       "      <td>2</td>\n",
       "      <td>4</td>\n",
       "      <td>4</td>\n",
       "      <td>1</td>\n",
       "      <td>3</td>\n",
       "      <td>4</td>\n",
       "      <td>33</td>\n",
       "      <td>3</td>\n",
       "      <td>2</td>\n",
       "      <td>1</td>\n",
       "      <td>2</td>\n",
       "      <td>2</td>\n",
       "      <td>2</td>\n",
       "      <td>1</td>\n",
       "    </tr>\n",
       "    <tr>\n",
       "      <th>298</th>\n",
       "      <td>2</td>\n",
       "      <td>12</td>\n",
       "      <td>2</td>\n",
       "      <td>2</td>\n",
       "      <td>983</td>\n",
       "      <td>4</td>\n",
       "      <td>2</td>\n",
       "      <td>1</td>\n",
       "      <td>2</td>\n",
       "      <td>1</td>\n",
       "      <td>4</td>\n",
       "      <td>1</td>\n",
       "      <td>19</td>\n",
       "      <td>3</td>\n",
       "      <td>1</td>\n",
       "      <td>1</td>\n",
       "      <td>2</td>\n",
       "      <td>2</td>\n",
       "      <td>1</td>\n",
       "      <td>1</td>\n",
       "    </tr>\n",
       "    <tr>\n",
       "      <th>553</th>\n",
       "      <td>4</td>\n",
       "      <td>10</td>\n",
       "      <td>2</td>\n",
       "      <td>8</td>\n",
       "      <td>894</td>\n",
       "      <td>5</td>\n",
       "      <td>4</td>\n",
       "      <td>4</td>\n",
       "      <td>2</td>\n",
       "      <td>1</td>\n",
       "      <td>3</td>\n",
       "      <td>2</td>\n",
       "      <td>40</td>\n",
       "      <td>3</td>\n",
       "      <td>2</td>\n",
       "      <td>1</td>\n",
       "      <td>3</td>\n",
       "      <td>2</td>\n",
       "      <td>2</td>\n",
       "      <td>1</td>\n",
       "    </tr>\n",
       "    <tr>\n",
       "      <th>672</th>\n",
       "      <td>2</td>\n",
       "      <td>18</td>\n",
       "      <td>2</td>\n",
       "      <td>3</td>\n",
       "      <td>1113</td>\n",
       "      <td>1</td>\n",
       "      <td>3</td>\n",
       "      <td>4</td>\n",
       "      <td>2</td>\n",
       "      <td>3</td>\n",
       "      <td>4</td>\n",
       "      <td>1</td>\n",
       "      <td>26</td>\n",
       "      <td>3</td>\n",
       "      <td>2</td>\n",
       "      <td>1</td>\n",
       "      <td>2</td>\n",
       "      <td>1</td>\n",
       "      <td>1</td>\n",
       "      <td>1</td>\n",
       "    </tr>\n",
       "    <tr>\n",
       "      <th>...</th>\n",
       "      <td>...</td>\n",
       "      <td>...</td>\n",
       "      <td>...</td>\n",
       "      <td>...</td>\n",
       "      <td>...</td>\n",
       "      <td>...</td>\n",
       "      <td>...</td>\n",
       "      <td>...</td>\n",
       "      <td>...</td>\n",
       "      <td>...</td>\n",
       "      <td>...</td>\n",
       "      <td>...</td>\n",
       "      <td>...</td>\n",
       "      <td>...</td>\n",
       "      <td>...</td>\n",
       "      <td>...</td>\n",
       "      <td>...</td>\n",
       "      <td>...</td>\n",
       "      <td>...</td>\n",
       "      <td>...</td>\n",
       "    </tr>\n",
       "    <tr>\n",
       "      <th>167</th>\n",
       "      <td>4</td>\n",
       "      <td>24</td>\n",
       "      <td>4</td>\n",
       "      <td>9</td>\n",
       "      <td>4526</td>\n",
       "      <td>1</td>\n",
       "      <td>3</td>\n",
       "      <td>3</td>\n",
       "      <td>3</td>\n",
       "      <td>1</td>\n",
       "      <td>2</td>\n",
       "      <td>1</td>\n",
       "      <td>74</td>\n",
       "      <td>3</td>\n",
       "      <td>2</td>\n",
       "      <td>1</td>\n",
       "      <td>4</td>\n",
       "      <td>2</td>\n",
       "      <td>2</td>\n",
       "      <td>1</td>\n",
       "    </tr>\n",
       "    <tr>\n",
       "      <th>998</th>\n",
       "      <td>2</td>\n",
       "      <td>12</td>\n",
       "      <td>2</td>\n",
       "      <td>3</td>\n",
       "      <td>6468</td>\n",
       "      <td>5</td>\n",
       "      <td>1</td>\n",
       "      <td>2</td>\n",
       "      <td>3</td>\n",
       "      <td>1</td>\n",
       "      <td>1</td>\n",
       "      <td>4</td>\n",
       "      <td>52</td>\n",
       "      <td>3</td>\n",
       "      <td>2</td>\n",
       "      <td>1</td>\n",
       "      <td>4</td>\n",
       "      <td>2</td>\n",
       "      <td>2</td>\n",
       "      <td>1</td>\n",
       "    </tr>\n",
       "    <tr>\n",
       "      <th>984</th>\n",
       "      <td>1</td>\n",
       "      <td>48</td>\n",
       "      <td>2</td>\n",
       "      <td>3</td>\n",
       "      <td>6999</td>\n",
       "      <td>1</td>\n",
       "      <td>4</td>\n",
       "      <td>1</td>\n",
       "      <td>4</td>\n",
       "      <td>3</td>\n",
       "      <td>1</td>\n",
       "      <td>1</td>\n",
       "      <td>34</td>\n",
       "      <td>3</td>\n",
       "      <td>2</td>\n",
       "      <td>2</td>\n",
       "      <td>3</td>\n",
       "      <td>2</td>\n",
       "      <td>2</td>\n",
       "      <td>1</td>\n",
       "    </tr>\n",
       "    <tr>\n",
       "      <th>491</th>\n",
       "      <td>4</td>\n",
       "      <td>12</td>\n",
       "      <td>4</td>\n",
       "      <td>2</td>\n",
       "      <td>3331</td>\n",
       "      <td>1</td>\n",
       "      <td>5</td>\n",
       "      <td>2</td>\n",
       "      <td>3</td>\n",
       "      <td>1</td>\n",
       "      <td>4</td>\n",
       "      <td>2</td>\n",
       "      <td>42</td>\n",
       "      <td>2</td>\n",
       "      <td>2</td>\n",
       "      <td>1</td>\n",
       "      <td>3</td>\n",
       "      <td>2</td>\n",
       "      <td>1</td>\n",
       "      <td>1</td>\n",
       "    </tr>\n",
       "    <tr>\n",
       "      <th>10</th>\n",
       "      <td>1</td>\n",
       "      <td>11</td>\n",
       "      <td>4</td>\n",
       "      <td>0</td>\n",
       "      <td>3905</td>\n",
       "      <td>1</td>\n",
       "      <td>3</td>\n",
       "      <td>2</td>\n",
       "      <td>3</td>\n",
       "      <td>1</td>\n",
       "      <td>2</td>\n",
       "      <td>1</td>\n",
       "      <td>36</td>\n",
       "      <td>3</td>\n",
       "      <td>1</td>\n",
       "      <td>2</td>\n",
       "      <td>3</td>\n",
       "      <td>1</td>\n",
       "      <td>1</td>\n",
       "      <td>1</td>\n",
       "    </tr>\n",
       "  </tbody>\n",
       "</table>\n",
       "<p>300 rows × 20 columns</p>\n",
       "</div>"
      ],
      "text/plain": [
       "     laufkont  laufzeit  moral  verw  hoehe  sparkont  beszeit  rate  famges  \\\n",
       "993         1        18      4     0   3966         1        5     1       2   \n",
       "859         1        12      2     3    727         2        2     4       4   \n",
       "298         2        12      2     2    983         4        2     1       2   \n",
       "553         4        10      2     8    894         5        4     4       2   \n",
       "672         2        18      2     3   1113         1        3     4       2   \n",
       "..        ...       ...    ...   ...    ...       ...      ...   ...     ...   \n",
       "167         4        24      4     9   4526         1        3     3       3   \n",
       "998         2        12      2     3   6468         5        1     2       3   \n",
       "984         1        48      2     3   6999         1        4     1       4   \n",
       "491         4        12      4     2   3331         1        5     2       3   \n",
       "10          1        11      4     0   3905         1        3     2       3   \n",
       "\n",
       "     buerge  wohnzeit  verm  alter  weitkred  wohn  bishkred  beruf  pers  \\\n",
       "993       1         4     1     33         1     1         3      3     2   \n",
       "859       1         3     4     33         3     2         1      2     2   \n",
       "298       1         4     1     19         3     1         1      2     2   \n",
       "553       1         3     2     40         3     2         1      3     2   \n",
       "672       3         4     1     26         3     2         1      2     1   \n",
       "..      ...       ...   ...    ...       ...   ...       ...    ...   ...   \n",
       "167       1         2     1     74         3     2         1      4     2   \n",
       "998       1         1     4     52         3     2         1      4     2   \n",
       "984       3         1     1     34         3     2         2      3     2   \n",
       "491       1         4     2     42         2     2         1      3     2   \n",
       "10        1         2     1     36         3     1         2      3     1   \n",
       "\n",
       "     telef  gastarb_n  \n",
       "993      2          1  \n",
       "859      2          1  \n",
       "298      1          1  \n",
       "553      2          1  \n",
       "672      1          1  \n",
       "..     ...        ...  \n",
       "167      2          1  \n",
       "998      2          1  \n",
       "984      2          1  \n",
       "491      1          1  \n",
       "10       1          1  \n",
       "\n",
       "[300 rows x 20 columns]"
      ]
     },
     "execution_count": 61,
     "metadata": {},
     "output_type": "execute_result"
    }
   ],
   "source": [
    "X_Test"
   ]
  },
  {
   "cell_type": "code",
   "execution_count": 62,
   "metadata": {},
   "outputs": [
    {
     "name": "stdout",
     "output_type": "stream",
     "text": [
      "Unique Values of gastarb: [0 1]\n"
     ]
    }
   ],
   "source": [
    "print(\"Unique Values of gastarb: {}\".format(np.sort(X_Test.gastarb_n.unique())))"
   ]
  },
  {
   "cell_type": "code",
   "execution_count": 63,
   "metadata": {},
   "outputs": [],
   "source": [
    "# use foreign worker as protected attributes\n",
    "prtc_attr = X_Test['gastarb_n']"
   ]
  },
  {
   "cell_type": "code",
   "execution_count": 64,
   "metadata": {},
   "outputs": [],
   "source": [
    "# Specify either a dict of trained models to compare\n",
    "model_dict = {'model_1': m_lr, 'model_2': m_dt, 'model_3': m_gnb, 'model_4': m_rfc, 'model_4': m_gbc}"
   ]
  },
  {
   "cell_type": "code",
   "execution_count": 65,
   "metadata": {},
   "outputs": [
    {
     "data": {
      "text/html": [
       "<div>\n",
       "<style scoped>\n",
       "    .dataframe tbody tr th:only-of-type {\n",
       "        vertical-align: middle;\n",
       "    }\n",
       "\n",
       "    .dataframe tbody tr th {\n",
       "        vertical-align: top;\n",
       "    }\n",
       "\n",
       "    .dataframe thead th {\n",
       "        text-align: right;\n",
       "    }\n",
       "</style>\n",
       "<table border=\"1\" class=\"dataframe\">\n",
       "  <thead>\n",
       "    <tr style=\"text-align: right;\">\n",
       "      <th></th>\n",
       "      <th></th>\n",
       "      <th>model_1</th>\n",
       "      <th>model_2</th>\n",
       "      <th>model_3</th>\n",
       "      <th>model_4</th>\n",
       "    </tr>\n",
       "  </thead>\n",
       "  <tbody>\n",
       "    <tr>\n",
       "      <th rowspan=\"11\" valign=\"top\">Group Fairness</th>\n",
       "      <th>Statistical Parity Difference</th>\n",
       "      <td>0.1712</td>\n",
       "      <td>-0.1455</td>\n",
       "      <td>0.0000</td>\n",
       "      <td>0.1027</td>\n",
       "    </tr>\n",
       "    <tr>\n",
       "      <th>Disparate Impact Ratio</th>\n",
       "      <td>1.2066</td>\n",
       "      <td>0.8111</td>\n",
       "      <td>1.0000</td>\n",
       "      <td>1.1145</td>\n",
       "    </tr>\n",
       "    <tr>\n",
       "      <th>Demographic Parity Difference</th>\n",
       "      <td>0.1712</td>\n",
       "      <td>0.1455</td>\n",
       "      <td>0.0000</td>\n",
       "      <td>0.1027</td>\n",
       "    </tr>\n",
       "    <tr>\n",
       "      <th>Demographic Parity Ratio</th>\n",
       "      <td>0.8288</td>\n",
       "      <td>0.8111</td>\n",
       "      <td>1.0000</td>\n",
       "      <td>0.8973</td>\n",
       "    </tr>\n",
       "    <tr>\n",
       "      <th>Average Odds Difference</th>\n",
       "      <td>0.2205</td>\n",
       "      <td>-0.3758</td>\n",
       "      <td>0.0000</td>\n",
       "      <td>0.1368</td>\n",
       "    </tr>\n",
       "    <tr>\n",
       "      <th>Equal Opportunity Difference</th>\n",
       "      <td>0.0674</td>\n",
       "      <td>-0.1355</td>\n",
       "      <td>0.0000</td>\n",
       "      <td>0.0311</td>\n",
       "    </tr>\n",
       "    <tr>\n",
       "      <th>Equalized Odds Difference</th>\n",
       "      <td>0.3737</td>\n",
       "      <td>0.6162</td>\n",
       "      <td>0.0000</td>\n",
       "      <td>0.2424</td>\n",
       "    </tr>\n",
       "    <tr>\n",
       "      <th>Equalized Odds Ratio</th>\n",
       "      <td>0.6263</td>\n",
       "      <td>0.0000</td>\n",
       "      <td>1.0000</td>\n",
       "      <td>0.7576</td>\n",
       "    </tr>\n",
       "    <tr>\n",
       "      <th>Positive Predictive Parity Difference</th>\n",
       "      <td>0.1312</td>\n",
       "      <td>0.2711</td>\n",
       "      <td>0.2140</td>\n",
       "      <td>0.1613</td>\n",
       "    </tr>\n",
       "    <tr>\n",
       "      <th>Balanced Accuracy Difference</th>\n",
       "      <td>-0.1532</td>\n",
       "      <td>0.2404</td>\n",
       "      <td>0.0000</td>\n",
       "      <td>-0.1057</td>\n",
       "    </tr>\n",
       "    <tr>\n",
       "      <th>AUC Difference</th>\n",
       "      <td>0.0837</td>\n",
       "      <td>0.2404</td>\n",
       "      <td>-0.2966</td>\n",
       "      <td>0.0897</td>\n",
       "    </tr>\n",
       "    <tr>\n",
       "      <th rowspan=\"2\" valign=\"top\">Individual Fairness</th>\n",
       "      <th>Consistency Score</th>\n",
       "      <td>0.7893</td>\n",
       "      <td>0.7233</td>\n",
       "      <td>1.0000</td>\n",
       "      <td>0.8627</td>\n",
       "    </tr>\n",
       "    <tr>\n",
       "      <th>Between-Group Generalized Entropy Error</th>\n",
       "      <td>0.0000</td>\n",
       "      <td>0.0014</td>\n",
       "      <td>0.0003</td>\n",
       "      <td>0.0001</td>\n",
       "    </tr>\n",
       "    <tr>\n",
       "      <th rowspan=\"4\" valign=\"top\">Model Performance **</th>\n",
       "      <th>Precision</th>\n",
       "      <td>0.7480</td>\n",
       "      <td>0.7348</td>\n",
       "      <td>0.6667</td>\n",
       "      <td>0.7185</td>\n",
       "    </tr>\n",
       "    <tr>\n",
       "      <th>Recall</th>\n",
       "      <td>0.9350</td>\n",
       "      <td>0.8450</td>\n",
       "      <td>1.0000</td>\n",
       "      <td>0.9700</td>\n",
       "    </tr>\n",
       "    <tr>\n",
       "      <th>F1-Score</th>\n",
       "      <td>0.8311</td>\n",
       "      <td>0.7860</td>\n",
       "      <td>0.8000</td>\n",
       "      <td>0.8255</td>\n",
       "    </tr>\n",
       "    <tr>\n",
       "      <th>Accuracy</th>\n",
       "      <td>0.7467</td>\n",
       "      <td>0.6933</td>\n",
       "      <td>0.6667</td>\n",
       "      <td>0.7267</td>\n",
       "    </tr>\n",
       "  </tbody>\n",
       "</table>\n",
       "</div>"
      ],
      "text/plain": [
       "                                                              model_1  \\\n",
       "Group Fairness       Statistical Parity Difference             0.1712   \n",
       "                     Disparate Impact Ratio                    1.2066   \n",
       "                     Demographic Parity Difference             0.1712   \n",
       "                     Demographic Parity Ratio                  0.8288   \n",
       "                     Average Odds Difference                   0.2205   \n",
       "                     Equal Opportunity Difference              0.0674   \n",
       "                     Equalized Odds Difference                 0.3737   \n",
       "                     Equalized Odds Ratio                      0.6263   \n",
       "                     Positive Predictive Parity Difference     0.1312   \n",
       "                     Balanced Accuracy Difference             -0.1532   \n",
       "                     AUC Difference                            0.0837   \n",
       "Individual Fairness  Consistency Score                         0.7893   \n",
       "                     Between-Group Generalized Entropy Error   0.0000   \n",
       "Model Performance ** Precision                                 0.7480   \n",
       "                     Recall                                    0.9350   \n",
       "                     F1-Score                                  0.8311   \n",
       "                     Accuracy                                  0.7467   \n",
       "\n",
       "                                                              model_2  \\\n",
       "Group Fairness       Statistical Parity Difference            -0.1455   \n",
       "                     Disparate Impact Ratio                    0.8111   \n",
       "                     Demographic Parity Difference             0.1455   \n",
       "                     Demographic Parity Ratio                  0.8111   \n",
       "                     Average Odds Difference                  -0.3758   \n",
       "                     Equal Opportunity Difference             -0.1355   \n",
       "                     Equalized Odds Difference                 0.6162   \n",
       "                     Equalized Odds Ratio                      0.0000   \n",
       "                     Positive Predictive Parity Difference     0.2711   \n",
       "                     Balanced Accuracy Difference              0.2404   \n",
       "                     AUC Difference                            0.2404   \n",
       "Individual Fairness  Consistency Score                         0.7233   \n",
       "                     Between-Group Generalized Entropy Error   0.0014   \n",
       "Model Performance ** Precision                                 0.7348   \n",
       "                     Recall                                    0.8450   \n",
       "                     F1-Score                                  0.7860   \n",
       "                     Accuracy                                  0.6933   \n",
       "\n",
       "                                                              model_3  model_4  \n",
       "Group Fairness       Statistical Parity Difference             0.0000   0.1027  \n",
       "                     Disparate Impact Ratio                    1.0000   1.1145  \n",
       "                     Demographic Parity Difference             0.0000   0.1027  \n",
       "                     Demographic Parity Ratio                  1.0000   0.8973  \n",
       "                     Average Odds Difference                   0.0000   0.1368  \n",
       "                     Equal Opportunity Difference              0.0000   0.0311  \n",
       "                     Equalized Odds Difference                 0.0000   0.2424  \n",
       "                     Equalized Odds Ratio                      1.0000   0.7576  \n",
       "                     Positive Predictive Parity Difference     0.2140   0.1613  \n",
       "                     Balanced Accuracy Difference              0.0000  -0.1057  \n",
       "                     AUC Difference                           -0.2966   0.0897  \n",
       "Individual Fairness  Consistency Score                         1.0000   0.8627  \n",
       "                     Between-Group Generalized Entropy Error   0.0003   0.0001  \n",
       "Model Performance ** Precision                                 0.6667   0.7185  \n",
       "                     Recall                                    1.0000   0.9700  \n",
       "                     F1-Score                                  0.8000   0.8255  \n",
       "                     Accuracy                                  0.6667   0.7267  "
      ]
     },
     "execution_count": 65,
     "metadata": {},
     "output_type": "execute_result"
    }
   ],
   "source": [
    "# Pass the above to the compare models function\n",
    "fhmc.compare_measures(X_Test, y_Test, prtc_attr, model_dict)"
   ]
  },
  {
   "cell_type": "markdown",
   "metadata": {},
   "source": [
    "## Question 5: Mimic Models"
   ]
  },
  {
   "cell_type": "markdown",
   "metadata": {},
   "source": [
    "### i) Build the mimic model after the Logistic Regression model"
   ]
  },
  {
   "cell_type": "code",
   "execution_count": 155,
   "metadata": {},
   "outputs": [],
   "source": [
    "y_mimic = m_lr.predict(X_Train)"
   ]
  },
  {
   "cell_type": "code",
   "execution_count": 156,
   "metadata": {},
   "outputs": [],
   "source": [
    "y_lrTrain = pd.DataFrame(y_mimic)"
   ]
  },
  {
   "cell_type": "code",
   "execution_count": 157,
   "metadata": {},
   "outputs": [],
   "source": [
    "kfold = StratifiedKFold(n_splits=10)\n",
    "mimic_dt1 = DecisionTreeClassifier() \n",
    "\n",
    "tprs = []\n",
    "aucs = []\n",
    "mean_fpr = np.linspace(0,1,100)\n",
    "i = 1\n",
    "\n",
    "recalls =[]\n",
    "precisions =[]\n",
    "f1scores =[]"
   ]
  },
  {
   "cell_type": "code",
   "execution_count": 158,
   "metadata": {},
   "outputs": [
    {
     "data": {
      "image/png": "[encoded data removed]",
      "text/plain": [
       "<Figure size 432x288 with 1 Axes>"
      ]
     },
     "metadata": {
      "needs_background": "light"
     },
     "output_type": "display_data"
    }
   ],
   "source": [
    "x = X_Train\n",
    "y = y_lrTrain\n",
    "for train,test in kfold.split(x,y):\n",
    "    model = mimic_dt1.fit(x.iloc[train],y.iloc[train])\n",
    "    pred_prob = model.predict_proba(x.iloc[test])\n",
    "    pred = model.predict(x.iloc[test])\n",
    "\n",
    "    #prediction = m_rfc.fit(x[train],y[train]).predict_proba(x[test])\n",
    "    fpr, tpr, t = metrics.roc_curve(y.iloc[test], pred_prob[:, 1])\n",
    "    recalls.append(metrics.recall_score(y.iloc[test], pred))\n",
    "    precisions.append(metrics.precision_score(y.iloc[test], pred))\n",
    "    f1scores.append(metrics.f1_score(y.iloc[test], pred))\n",
    "    tprs.append(np.interp(mean_fpr, fpr, tpr))\n",
    "    roc_auc = metrics.auc(fpr, tpr)\n",
    "    aucs.append(roc_auc)\n",
    "    plt.plot(fpr, tpr, lw=2, alpha=0.3, label='ROC fold %d (AUC = %0.2f)' % (i, roc_auc))\n",
    "    i= i+1\n",
    "\n",
    "plt.plot([0,1],[0,1],linestyle = '--',lw = 2,color = 'black')\n",
    "mean_tpr = np.mean(tprs, axis=0)\n",
    "mean_auc = metrics.auc(mean_fpr, mean_tpr)\n",
    "plt.plot(mean_fpr, mean_tpr, color='blue',\n",
    "         label=r'Mean ROC (AUC = %0.2f )' % (mean_auc),lw=2, alpha=1)\n",
    "\n",
    "plt.xlabel('False Positive Rate')\n",
    "plt.ylabel('True Positive Rate')\n",
    "plt.title('ROC')\n",
    "plt.legend(loc=\"lower right\")\n",
    "plt.show()"
   ]
  },
  {
   "cell_type": "code",
   "execution_count": 159,
   "metadata": {},
   "outputs": [
    {
     "name": "stdout",
     "output_type": "stream",
     "text": [
      "[0.9298245614035088, 0.9298245614035088, 0.9649122807017544, 0.9122807017543859, 0.8947368421052632, 0.9298245614035088, 0.9122807017543859, 0.9649122807017544, 0.8771929824561403, 0.9298245614035088]\n",
      "0.9245614035087719\n"
     ]
    }
   ],
   "source": [
    "print(recalls)\n",
    "print(np.mean(recalls))"
   ]
  },
  {
   "cell_type": "code",
   "execution_count": 160,
   "metadata": {},
   "outputs": [
    {
     "name": "stdout",
     "output_type": "stream",
     "text": [
      "[0.9137931034482759, 0.9298245614035088, 0.9016393442622951, 0.9122807017543859, 0.8947368421052632, 0.9814814814814815, 0.9811320754716981, 0.8870967741935484, 0.8928571428571429, 0.9636363636363636]\n",
      "0.9258478390613962\n"
     ]
    }
   ],
   "source": [
    "print(precisions)\n",
    "print(np.mean(precisions))"
   ]
  },
  {
   "cell_type": "code",
   "execution_count": 161,
   "metadata": {},
   "outputs": [
    {
     "name": "stdout",
     "output_type": "stream",
     "text": [
      "[0.9217391304347825, 0.9298245614035088, 0.9322033898305084, 0.9122807017543859, 0.8947368421052632, 0.954954954954955, 0.9454545454545454, 0.9243697478991597, 0.8849557522123894, 0.9464285714285715]\n",
      "0.9246948197478069\n"
     ]
    }
   ],
   "source": [
    "print(f1scores)\n",
    "print(np.mean(f1scores))"
   ]
  },
  {
   "cell_type": "code",
   "execution_count": 162,
   "metadata": {
    "scrolled": true
   },
   "outputs": [
    {
     "name": "stdout",
     "output_type": "stream",
     "text": [
      "[0.7726045883940622, 0.8110661268556005, 0.7516869095816464, 0.7638326585695007, 0.7165991902834008, 0.926450742240216, 0.9176788124156545, 0.713225371120108, 0.7078272604588394, 0.8879892037786775]\n",
      "0.7968960863697706\n"
     ]
    }
   ],
   "source": [
    "print(aucs)\n",
    "print(np.mean(aucs))"
   ]
  },
  {
   "cell_type": "markdown",
   "metadata": {},
   "source": [
    "Report the performance metrics with the left out testing data:"
   ]
  },
  {
   "cell_type": "code",
   "execution_count": 163,
   "metadata": {},
   "outputs": [],
   "source": [
    "y_pred = mimic_dt1.predict(X_Test)"
   ]
  },
  {
   "cell_type": "code",
   "execution_count": 164,
   "metadata": {},
   "outputs": [
    {
     "name": "stdout",
     "output_type": "stream",
     "text": [
      "              precision    recall  f1-score   support\n",
      "\n",
      "           0       0.63      0.36      0.46       100\n",
      "           1       0.74      0.90      0.81       200\n",
      "\n",
      "    accuracy                           0.72       300\n",
      "   macro avg       0.68      0.63      0.63       300\n",
      "weighted avg       0.70      0.72      0.69       300\n",
      "\n"
     ]
    }
   ],
   "source": [
    "scores_lrMimic = classification_report(y_Test, y_pred, labels=[0, 1])\n",
    "auc_lrMimic = roc_auc_score(y_Test, y_pred)\n",
    "print(scores_lrMimic)"
   ]
  },
  {
   "cell_type": "code",
   "execution_count": 165,
   "metadata": {},
   "outputs": [
    {
     "data": {
      "text/plain": [
       "0.6275"
      ]
     },
     "execution_count": 165,
     "metadata": {},
     "output_type": "execute_result"
    }
   ],
   "source": [
    "auc_lrMimic"
   ]
  },
  {
   "cell_type": "markdown",
   "metadata": {},
   "source": [
    "### ii) Build the mimic model after the Decision Tree model"
   ]
  },
  {
   "cell_type": "code",
   "execution_count": 166,
   "metadata": {},
   "outputs": [],
   "source": [
    "y_mimic = m_dt.predict(X_Train)"
   ]
  },
  {
   "cell_type": "code",
   "execution_count": 167,
   "metadata": {},
   "outputs": [],
   "source": [
    "y_dtTrain = pd.DataFrame(y_mimic)"
   ]
  },
  {
   "cell_type": "code",
   "execution_count": 168,
   "metadata": {},
   "outputs": [],
   "source": [
    "kfold = StratifiedKFold(n_splits=10)\n",
    "mimic_dt2 = DecisionTreeClassifier() \n",
    "\n",
    "tprs = []\n",
    "aucs = []\n",
    "mean_fpr = np.linspace(0,1,100)\n",
    "i = 1\n",
    "\n",
    "recalls =[]\n",
    "precisions =[]\n",
    "f1scores =[]"
   ]
  },
  {
   "cell_type": "code",
   "execution_count": 169,
   "metadata": {},
   "outputs": [
    {
     "data": {
      "image/png": "[encoded data removed]",
      "text/plain": [
       "<Figure size 432x288 with 1 Axes>"
      ]
     },
     "metadata": {
      "needs_background": "light"
     },
     "output_type": "display_data"
    }
   ],
   "source": [
    "x = X_Train\n",
    "y = y_dtTrain\n",
    "for train,test in kfold.split(x,y):\n",
    "    model = mimic_dt2.fit(x.iloc[train],y.iloc[train])\n",
    "    pred_prob = model.predict_proba(x.iloc[test])\n",
    "    pred = model.predict(x.iloc[test])\n",
    "\n",
    "    #prediction = m_rfc.fit(x[train],y[train]).predict_proba(x[test])\n",
    "    fpr, tpr, t = metrics.roc_curve(y.iloc[test], pred_prob[:, 1])\n",
    "    recalls.append(metrics.recall_score(y.iloc[test], pred))\n",
    "    precisions.append(metrics.precision_score(y.iloc[test], pred))\n",
    "    f1scores.append(metrics.f1_score(y.iloc[test], pred))\n",
    "    tprs.append(np.interp(mean_fpr, fpr, tpr))\n",
    "    roc_auc = metrics.auc(fpr, tpr)\n",
    "    aucs.append(roc_auc)\n",
    "    plt.plot(fpr, tpr, lw=2, alpha=0.3, label='ROC fold %d (AUC = %0.2f)' % (i, roc_auc))\n",
    "    i= i+1\n",
    "\n",
    "plt.plot([0,1],[0,1],linestyle = '--',lw = 2,color = 'black')\n",
    "mean_tpr = np.mean(tprs, axis=0)\n",
    "mean_auc = metrics.auc(mean_fpr, mean_tpr)\n",
    "plt.plot(mean_fpr, mean_tpr, color='blue',\n",
    "         label=r'Mean ROC (AUC = %0.2f )' % (mean_auc),lw=2, alpha=1)\n",
    "\n",
    "plt.xlabel('False Positive Rate')\n",
    "plt.ylabel('True Positive Rate')\n",
    "plt.title('ROC')\n",
    "plt.legend(loc=\"lower right\")\n",
    "plt.show()"
   ]
  },
  {
   "cell_type": "code",
   "execution_count": 170,
   "metadata": {},
   "outputs": [
    {
     "name": "stdout",
     "output_type": "stream",
     "text": [
      "[0.7, 0.76, 0.72, 0.82, 0.74, 0.82, 0.82, 0.84, 0.8163265306122449, 0.8571428571428571]\n",
      "0.7893469387755101\n"
     ]
    }
   ],
   "source": [
    "print(recalls)\n",
    "print(np.mean(recalls))"
   ]
  },
  {
   "cell_type": "code",
   "execution_count": 171,
   "metadata": {},
   "outputs": [
    {
     "name": "stdout",
     "output_type": "stream",
     "text": [
      "[0.7777777777777778, 0.7450980392156863, 0.8, 0.803921568627451, 0.8409090909090909, 0.8723404255319149, 0.7735849056603774, 0.8076923076923077, 0.7142857142857143, 0.84]\n",
      "0.7975609829700321\n"
     ]
    }
   ],
   "source": [
    "print(precisions)\n",
    "print(np.mean(precisions))"
   ]
  },
  {
   "cell_type": "code",
   "execution_count": 172,
   "metadata": {},
   "outputs": [
    {
     "name": "stdout",
     "output_type": "stream",
     "text": [
      "[0.7368421052631577, 0.7524752475247525, 0.7578947368421052, 0.8118811881188118, 0.7872340425531915, 0.8453608247422681, 0.796116504854369, 0.8235294117647058, 0.7619047619047619, 0.8484848484848485]\n",
      "0.7921723672052973\n"
     ]
    }
   ],
   "source": [
    "print(f1scores)\n",
    "print(np.mean(f1scores))"
   ]
  },
  {
   "cell_type": "code",
   "execution_count": 173,
   "metadata": {
    "scrolled": true
   },
   "outputs": [
    {
     "name": "stdout",
     "output_type": "stream",
     "text": [
      "[0.6, 0.555, 0.635, 0.6599999999999999, 0.6950000000000001, 0.7599999999999999, 0.61, 0.6699999999999999, 0.5272108843537415, 0.7380952380952381]\n",
      "0.645030612244898\n"
     ]
    }
   ],
   "source": [
    "print(aucs)\n",
    "print(np.mean(aucs))"
   ]
  },
  {
   "cell_type": "markdown",
   "metadata": {},
   "source": [
    "Report the performance metrics with the left out testing data:"
   ]
  },
  {
   "cell_type": "code",
   "execution_count": 174,
   "metadata": {},
   "outputs": [],
   "source": [
    "y_pred = mimic_dt2.predict(X_Test)"
   ]
  },
  {
   "cell_type": "code",
   "execution_count": 175,
   "metadata": {},
   "outputs": [
    {
     "name": "stdout",
     "output_type": "stream",
     "text": [
      "              precision    recall  f1-score   support\n",
      "\n",
      "           0       0.50      0.35      0.41       100\n",
      "           1       0.72      0.82      0.77       200\n",
      "\n",
      "    accuracy                           0.67       300\n",
      "   macro avg       0.61      0.59      0.59       300\n",
      "weighted avg       0.64      0.67      0.65       300\n",
      "\n"
     ]
    }
   ],
   "source": [
    "scores_dtMimic = classification_report(y_Test, y_pred, labels=[0, 1])\n",
    "auc_dtMimic = roc_auc_score(y_Test, y_pred)\n",
    "print(scores_dtMimic)"
   ]
  },
  {
   "cell_type": "code",
   "execution_count": 176,
   "metadata": {},
   "outputs": [
    {
     "data": {
      "text/plain": [
       "0.5874999999999999"
      ]
     },
     "execution_count": 176,
     "metadata": {},
     "output_type": "execute_result"
    }
   ],
   "source": [
    "auc_dtMimic"
   ]
  },
  {
   "cell_type": "markdown",
   "metadata": {},
   "source": [
    "### iii) Build the mimic model after the Naive Bayes model"
   ]
  },
  {
   "cell_type": "code",
   "execution_count": 177,
   "metadata": {},
   "outputs": [],
   "source": [
    "y_mimic = m_gnb.predict(X_Train)"
   ]
  },
  {
   "cell_type": "code",
   "execution_count": 178,
   "metadata": {},
   "outputs": [],
   "source": [
    "y_gnbTrain = pd.DataFrame(y_mimic)"
   ]
  },
  {
   "cell_type": "code",
   "execution_count": 179,
   "metadata": {},
   "outputs": [],
   "source": [
    "kfold = StratifiedKFold(n_splits=10)\n",
    "mimic_dt3 = DecisionTreeClassifier() \n",
    "\n",
    "tprs = []\n",
    "aucs = []\n",
    "mean_fpr = np.linspace(0,1,100)\n",
    "i = 1\n",
    "\n",
    "recalls =[]\n",
    "precisions =[]\n",
    "f1scores =[]"
   ]
  },
  {
   "cell_type": "code",
   "execution_count": 180,
   "metadata": {},
   "outputs": [
    {
     "data": {
      "image/png": "[encoded data removed]",
      "text/plain": [
       "<Figure size 432x288 with 1 Axes>"
      ]
     },
     "metadata": {
      "needs_background": "light"
     },
     "output_type": "display_data"
    }
   ],
   "source": [
    "x = X_Train\n",
    "y = y_gnbTrain\n",
    "for train,test in kfold.split(x,y):\n",
    "    model = mimic_dt3.fit(x.iloc[train],y.iloc[train])\n",
    "    pred_prob = model.predict_proba(x.iloc[test])\n",
    "    pred = model.predict(x.iloc[test])\n",
    "\n",
    "    #prediction = m_rfc.fit(x[train],y[train]).predict_proba(x[test])\n",
    "    fpr, tpr, t = metrics.roc_curve(y.iloc[test], pred_prob[:, 1])\n",
    "    recalls.append(metrics.recall_score(y.iloc[test], pred))\n",
    "    precisions.append(metrics.precision_score(y.iloc[test], pred))\n",
    "    f1scores.append(metrics.f1_score(y.iloc[test], pred))\n",
    "    tprs.append(np.interp(mean_fpr, fpr, tpr))\n",
    "    roc_auc = metrics.auc(fpr, tpr)\n",
    "    aucs.append(roc_auc)\n",
    "    plt.plot(fpr, tpr, lw=2, alpha=0.3, label='ROC fold %d (AUC = %0.2f)' % (i, roc_auc))\n",
    "    i= i+1\n",
    "\n",
    "plt.plot([0,1],[0,1],linestyle = '--',lw = 2,color = 'black')\n",
    "mean_tpr = np.mean(tprs, axis=0)\n",
    "mean_auc = metrics.auc(mean_fpr, mean_tpr)\n",
    "plt.plot(mean_fpr, mean_tpr, color='blue',\n",
    "         label=r'Mean ROC (AUC = %0.2f )' % (mean_auc),lw=2, alpha=1)\n",
    "\n",
    "plt.xlabel('False Positive Rate')\n",
    "plt.ylabel('True Positive Rate')\n",
    "plt.title('ROC')\n",
    "plt.legend(loc=\"lower right\")\n",
    "plt.show()"
   ]
  },
  {
   "cell_type": "code",
   "execution_count": 181,
   "metadata": {},
   "outputs": [
    {
     "name": "stdout",
     "output_type": "stream",
     "text": [
      "[0.9148936170212766, 0.9361702127659575, 0.851063829787234, 0.8936170212765957, 0.8723404255319149, 0.9148936170212766, 0.8936170212765957, 0.8936170212765957, 0.8297872340425532, 0.8297872340425532]\n",
      "0.8829787234042552\n"
     ]
    }
   ],
   "source": [
    "print(recalls)\n",
    "print(np.mean(recalls))"
   ]
  },
  {
   "cell_type": "code",
   "execution_count": 182,
   "metadata": {},
   "outputs": [
    {
     "name": "stdout",
     "output_type": "stream",
     "text": [
      "[0.86, 0.9565217391304348, 0.9090909090909091, 0.8571428571428571, 0.9534883720930233, 0.86, 0.8936170212765957, 0.8076923076923077, 0.8863636363636364, 0.8478260869565217]\n",
      "0.8831742929746286\n"
     ]
    }
   ],
   "source": [
    "print(precisions)\n",
    "print(np.mean(precisions))"
   ]
  },
  {
   "cell_type": "code",
   "execution_count": 183,
   "metadata": {},
   "outputs": [
    {
     "name": "stdout",
     "output_type": "stream",
     "text": [
      "[0.8865979381443299, 0.9462365591397849, 0.8791208791208791, 0.875, 0.9111111111111112, 0.8865979381443299, 0.8936170212765957, 0.8484848484848485, 0.8571428571428571, 0.8387096774193549]\n",
      "0.882261882998409\n"
     ]
    }
   ],
   "source": [
    "print(f1scores)\n",
    "print(np.mean(f1scores))"
   ]
  },
  {
   "cell_type": "code",
   "execution_count": 184,
   "metadata": {
    "scrolled": true
   },
   "outputs": [
    {
     "name": "stdout",
     "output_type": "stream",
     "text": [
      "[0.80527289546716, 0.9246068455134135, 0.8385753931544865, 0.7946345975948196, 0.8926919518963923, 0.80527289546716, 0.8381128584643848, 0.7294172062904718, 0.8061979648473635, 0.7627197039777983]\n",
      "0.819750231267345\n"
     ]
    }
   ],
   "source": [
    "print(aucs)\n",
    "print(np.mean(aucs))"
   ]
  },
  {
   "cell_type": "markdown",
   "metadata": {},
   "source": [
    "Report the performance metrics with the left out testing data:"
   ]
  },
  {
   "cell_type": "code",
   "execution_count": 185,
   "metadata": {},
   "outputs": [],
   "source": [
    "y_pred = mimic_dt3.predict(X_Test)"
   ]
  },
  {
   "cell_type": "code",
   "execution_count": 186,
   "metadata": {},
   "outputs": [
    {
     "name": "stdout",
     "output_type": "stream",
     "text": [
      "              precision    recall  f1-score   support\n",
      "\n",
      "           0       0.60      0.43      0.50       100\n",
      "           1       0.75      0.85      0.80       200\n",
      "\n",
      "    accuracy                           0.71       300\n",
      "   macro avg       0.67      0.64      0.65       300\n",
      "weighted avg       0.70      0.71      0.70       300\n",
      "\n"
     ]
    }
   ],
   "source": [
    "scores_gnbMimic = classification_report(y_Test, y_pred, labels=[0, 1])\n",
    "auc_gnbMimic = roc_auc_score(y_Test, y_pred)\n",
    "print(scores_gnbMimic)"
   ]
  },
  {
   "cell_type": "code",
   "execution_count": 187,
   "metadata": {},
   "outputs": [
    {
     "data": {
      "text/plain": [
       "0.6425000000000001"
      ]
     },
     "execution_count": 187,
     "metadata": {},
     "output_type": "execute_result"
    }
   ],
   "source": [
    "auc_gnbMimic"
   ]
  },
  {
   "cell_type": "markdown",
   "metadata": {},
   "source": [
    "### iv) Build the mimic model after the Ranfom Forest model"
   ]
  },
  {
   "cell_type": "code",
   "execution_count": 188,
   "metadata": {},
   "outputs": [],
   "source": [
    "y_mimic = m_rfc.predict(X_Train)"
   ]
  },
  {
   "cell_type": "code",
   "execution_count": 189,
   "metadata": {},
   "outputs": [],
   "source": [
    "y_rfcTrain = pd.DataFrame(y_mimic)"
   ]
  },
  {
   "cell_type": "code",
   "execution_count": 190,
   "metadata": {},
   "outputs": [],
   "source": [
    "kfold = StratifiedKFold(n_splits=10)\n",
    "mimic_dt4 = DecisionTreeClassifier() \n",
    "\n",
    "tprs = []\n",
    "aucs = []\n",
    "mean_fpr = np.linspace(0,1,100)\n",
    "i = 1\n",
    "\n",
    "recalls =[]\n",
    "precisions =[]\n",
    "f1scores =[]"
   ]
  },
  {
   "cell_type": "code",
   "execution_count": 191,
   "metadata": {},
   "outputs": [
    {
     "data": {
      "image/png": "[encoded data removed]",
      "text/plain": [
       "<Figure size 432x288 with 1 Axes>"
      ]
     },
     "metadata": {
      "needs_background": "light"
     },
     "output_type": "display_data"
    }
   ],
   "source": [
    "x = X_Train\n",
    "y = y_rfcTrain\n",
    "for train,test in kfold.split(x,y):\n",
    "    model = mimic_dt4.fit(x.iloc[train],y.iloc[train])\n",
    "    pred_prob = model.predict_proba(x.iloc[test])\n",
    "    pred = model.predict(x.iloc[test])\n",
    "\n",
    "    #prediction = m_rfc.fit(x[train],y[train]).predict_proba(x[test])\n",
    "    fpr, tpr, t = metrics.roc_curve(y.iloc[test], pred_prob[:, 1])\n",
    "    recalls.append(metrics.recall_score(y.iloc[test], pred))\n",
    "    precisions.append(metrics.precision_score(y.iloc[test], pred))\n",
    "    f1scores.append(metrics.f1_score(y.iloc[test], pred))\n",
    "    tprs.append(np.interp(mean_fpr, fpr, tpr))\n",
    "    roc_auc = metrics.auc(fpr, tpr)\n",
    "    aucs.append(roc_auc)\n",
    "    plt.plot(fpr, tpr, lw=2, alpha=0.3, label='ROC fold %d (AUC = %0.2f)' % (i, roc_auc))\n",
    "    i= i+1\n",
    "\n",
    "plt.plot([0,1],[0,1],linestyle = '--',lw = 2,color = 'black')\n",
    "mean_tpr = np.mean(tprs, axis=0)\n",
    "mean_auc = metrics.auc(mean_fpr, mean_tpr)\n",
    "plt.plot(mean_fpr, mean_tpr, color='blue',\n",
    "         label=r'Mean ROC (AUC = %0.2f )' % (mean_auc),lw=2, alpha=1)\n",
    "\n",
    "plt.xlabel('False Positive Rate')\n",
    "plt.ylabel('True Positive Rate')\n",
    "plt.title('ROC')\n",
    "plt.legend(loc=\"lower right\")\n",
    "plt.show()"
   ]
  },
  {
   "cell_type": "code",
   "execution_count": 192,
   "metadata": {},
   "outputs": [
    {
     "name": "stdout",
     "output_type": "stream",
     "text": [
      "[0.7843137254901961, 0.8627450980392157, 0.8431372549019608, 0.8431372549019608, 0.7647058823529411, 0.8627450980392157, 0.8235294117647058, 0.8235294117647058, 0.7058823529411765, 0.803921568627451]\n",
      "0.8117647058823529\n"
     ]
    }
   ],
   "source": [
    "print(recalls)\n",
    "print(np.mean(recalls))"
   ]
  },
  {
   "cell_type": "code",
   "execution_count": 193,
   "metadata": {},
   "outputs": [
    {
     "name": "stdout",
     "output_type": "stream",
     "text": [
      "[0.7692307692307693, 0.8148148148148148, 0.8431372549019608, 0.7818181818181819, 0.78, 0.8301886792452831, 0.75, 0.8235294117647058, 0.8372093023255814, 0.82]\n",
      "0.8049928414101297\n"
     ]
    }
   ],
   "source": [
    "print(precisions)\n",
    "print(np.mean(precisions))"
   ]
  },
  {
   "cell_type": "code",
   "execution_count": 194,
   "metadata": {},
   "outputs": [
    {
     "name": "stdout",
     "output_type": "stream",
     "text": [
      "[0.7766990291262137, 0.838095238095238, 0.8431372549019607, 0.8113207547169811, 0.7722772277227723, 0.8461538461538461, 0.7850467289719627, 0.8235294117647058, 0.7659574468085107, 0.8118811881188118]\n",
      "0.8074098126381003\n"
     ]
    }
   ],
   "source": [
    "print(f1scores)\n",
    "print(np.mean(f1scores))"
   ]
  },
  {
   "cell_type": "code",
   "execution_count": 195,
   "metadata": {
    "scrolled": true
   },
   "outputs": [
    {
     "name": "stdout",
     "output_type": "stream",
     "text": [
      "[0.5763673890608875, 0.6682146542827658, 0.7110423116615068, 0.6057791537667698, 0.5928792569659442, 0.69453044375645, 0.5433436532507739, 0.6749226006191951, 0.6687306501547987, 0.6651186790505677]\n",
      "0.6400928792569658\n"
     ]
    }
   ],
   "source": [
    "print(aucs)\n",
    "print(np.mean(aucs))"
   ]
  },
  {
   "cell_type": "markdown",
   "metadata": {},
   "source": [
    "Report the performance metrics with the left out testing data:"
   ]
  },
  {
   "cell_type": "code",
   "execution_count": 196,
   "metadata": {},
   "outputs": [],
   "source": [
    "y_pred = mimic_dt4.predict(X_Test)"
   ]
  },
  {
   "cell_type": "code",
   "execution_count": 197,
   "metadata": {},
   "outputs": [
    {
     "name": "stdout",
     "output_type": "stream",
     "text": [
      "              precision    recall  f1-score   support\n",
      "\n",
      "           0       0.56      0.40      0.47       100\n",
      "           1       0.74      0.84      0.79       200\n",
      "\n",
      "    accuracy                           0.70       300\n",
      "   macro avg       0.65      0.62      0.63       300\n",
      "weighted avg       0.68      0.70      0.68       300\n",
      "\n"
     ]
    }
   ],
   "source": [
    "scores_rfcMimic = classification_report(y_Test, y_pred, labels=[0, 1])\n",
    "auc_rfcMimic = roc_auc_score(y_Test, y_pred)\n",
    "print(scores_rfcMimic)"
   ]
  },
  {
   "cell_type": "code",
   "execution_count": 198,
   "metadata": {},
   "outputs": [
    {
     "data": {
      "text/plain": [
       "0.6225"
      ]
     },
     "execution_count": 198,
     "metadata": {},
     "output_type": "execute_result"
    }
   ],
   "source": [
    "auc_rfcMimic"
   ]
  },
  {
   "cell_type": "markdown",
   "metadata": {},
   "source": [
    "### v) Build the mimic model after the XGBoost model"
   ]
  },
  {
   "cell_type": "code",
   "execution_count": 199,
   "metadata": {},
   "outputs": [],
   "source": [
    "y_mimic = m_gbc.predict(X_Train)"
   ]
  },
  {
   "cell_type": "code",
   "execution_count": 200,
   "metadata": {},
   "outputs": [],
   "source": [
    "y_gbcTrain = pd.DataFrame(y_mimic)"
   ]
  },
  {
   "cell_type": "code",
   "execution_count": 201,
   "metadata": {},
   "outputs": [],
   "source": [
    "kfold = StratifiedKFold(n_splits=10)\n",
    "mimic_dt5 = DecisionTreeClassifier() \n",
    "\n",
    "tprs = []\n",
    "aucs = []\n",
    "mean_fpr = np.linspace(0,1,100)\n",
    "i = 1\n",
    "\n",
    "recalls =[]\n",
    "precisions =[]\n",
    "f1scores =[]"
   ]
  },
  {
   "cell_type": "code",
   "execution_count": 202,
   "metadata": {},
   "outputs": [
    {
     "data": {
      "image/png": "[encoded data removed]",
      "text/plain": [
       "<Figure size 432x288 with 1 Axes>"
      ]
     },
     "metadata": {
      "needs_background": "light"
     },
     "output_type": "display_data"
    }
   ],
   "source": [
    "x = X_Train\n",
    "y = y_gbcTrain\n",
    "for train,test in kfold.split(x,y):\n",
    "    model = mimic_dt5.fit(x.iloc[train],y.iloc[train])\n",
    "    pred_prob = model.predict_proba(x.iloc[test])\n",
    "    pred = model.predict(x.iloc[test])\n",
    "\n",
    "    #prediction = m_rfc.fit(x[train],y[train]).predict_proba(x[test])\n",
    "    fpr, tpr, t = metrics.roc_curve(y.iloc[test], pred_prob[:, 1])\n",
    "    recalls.append(metrics.recall_score(y.iloc[test], pred))\n",
    "    precisions.append(metrics.precision_score(y.iloc[test], pred))\n",
    "    f1scores.append(metrics.f1_score(y.iloc[test], pred))\n",
    "    tprs.append(np.interp(mean_fpr, fpr, tpr))\n",
    "    roc_auc = metrics.auc(fpr, tpr)\n",
    "    aucs.append(roc_auc)\n",
    "    plt.plot(fpr, tpr, lw=2, alpha=0.3, label='ROC fold %d (AUC = %0.2f)' % (i, roc_auc))\n",
    "    i= i+1\n",
    "\n",
    "plt.plot([0,1],[0,1],linestyle = '--',lw = 2,color = 'black')\n",
    "mean_tpr = np.mean(tprs, axis=0)\n",
    "mean_auc = metrics.auc(mean_fpr, mean_tpr)\n",
    "plt.plot(mean_fpr, mean_tpr, color='blue',\n",
    "         label=r'Mean ROC (AUC = %0.2f )' % (mean_auc),lw=2, alpha=1)\n",
    "\n",
    "plt.xlabel('False Positive Rate')\n",
    "plt.ylabel('True Positive Rate')\n",
    "plt.title('ROC')\n",
    "plt.legend(loc=\"lower right\")\n",
    "plt.show()"
   ]
  },
  {
   "cell_type": "code",
   "execution_count": 203,
   "metadata": {},
   "outputs": [
    {
     "name": "stdout",
     "output_type": "stream",
     "text": [
      "[0.8333333333333334, 0.8518518518518519, 0.8518518518518519, 0.9074074074074074, 0.9074074074074074, 0.9074074074074074, 0.8888888888888888, 0.8888888888888888, 0.8679245283018868, 0.7924528301886793]\n",
      "0.8697414395527604\n"
     ]
    }
   ],
   "source": [
    "print(recalls)\n",
    "print(np.mean(recalls))"
   ]
  },
  {
   "cell_type": "code",
   "execution_count": 204,
   "metadata": {},
   "outputs": [
    {
     "name": "stdout",
     "output_type": "stream",
     "text": [
      "[0.9, 0.8846153846153846, 0.8846153846153846, 0.8305084745762712, 0.8596491228070176, 0.9074074074074074, 0.8888888888888888, 0.8727272727272727, 0.8518518518518519, 0.8571428571428571]\n",
      "0.8737406644632335\n"
     ]
    }
   ],
   "source": [
    "print(precisions)\n",
    "print(np.mean(precisions))"
   ]
  },
  {
   "cell_type": "code",
   "execution_count": 205,
   "metadata": {},
   "outputs": [
    {
     "name": "stdout",
     "output_type": "stream",
     "text": [
      "[0.8653846153846153, 0.8679245283018868, 0.8679245283018868, 0.8672566371681415, 0.8828828828828829, 0.9074074074074074, 0.8888888888888888, 0.8807339449541284, 0.8598130841121496, 0.8235294117647058]\n",
      "0.8711745929166694\n"
     ]
    }
   ],
   "source": [
    "print(f1scores)\n",
    "print(np.mean(f1scores))"
   ]
  },
  {
   "cell_type": "code",
   "execution_count": 206,
   "metadata": {
    "scrolled": true
   },
   "outputs": [
    {
     "name": "stdout",
     "output_type": "stream",
     "text": [
      "[0.7604166666666667, 0.7384259259259259, 0.7384259259259259, 0.6412037037037037, 0.7037037037037037, 0.7974537037037037, 0.7569444444444444, 0.7256944444444444, 0.6986681465038845, 0.6903440621531631]\n",
      "0.7251280727175566\n"
     ]
    }
   ],
   "source": [
    "print(aucs)\n",
    "print(np.mean(aucs))"
   ]
  },
  {
   "cell_type": "markdown",
   "metadata": {},
   "source": [
    "Report the performance metrics with the left out testing data:"
   ]
  },
  {
   "cell_type": "code",
   "execution_count": 207,
   "metadata": {},
   "outputs": [],
   "source": [
    "y_pred = mimic_dt5.predict(X_Test)"
   ]
  },
  {
   "cell_type": "code",
   "execution_count": 208,
   "metadata": {},
   "outputs": [
    {
     "name": "stdout",
     "output_type": "stream",
     "text": [
      "              precision    recall  f1-score   support\n",
      "\n",
      "           0       0.54      0.36      0.43       100\n",
      "           1       0.73      0.84      0.78       200\n",
      "\n",
      "    accuracy                           0.68       300\n",
      "   macro avg       0.63      0.60      0.61       300\n",
      "weighted avg       0.66      0.68      0.66       300\n",
      "\n"
     ]
    }
   ],
   "source": [
    "scores_gbcMimic = classification_report(y_Test, y_pred, labels=[0, 1])\n",
    "auc_gbcMimic = roc_auc_score(y_Test, y_pred)\n",
    "print(scores_gbcMimic)"
   ]
  },
  {
   "cell_type": "code",
   "execution_count": 209,
   "metadata": {},
   "outputs": [
    {
     "data": {
      "text/plain": [
       "0.6025"
      ]
     },
     "execution_count": 209,
     "metadata": {},
     "output_type": "execute_result"
    }
   ],
   "source": [
    "auc_gbcMimic"
   ]
  },
  {
   "cell_type": "markdown",
   "metadata": {},
   "source": [
    "## Fairness report of the mimic models"
   ]
  },
  {
   "cell_type": "code",
   "execution_count": 210,
   "metadata": {},
   "outputs": [],
   "source": [
    "# use foreign worker as protected attributes\n",
    "prtc_attr = X_Test['gastarb_n']"
   ]
  },
  {
   "cell_type": "code",
   "execution_count": 211,
   "metadata": {},
   "outputs": [],
   "source": [
    "# Specify either a dict of trained models to compare\n",
    "model_dict_mimic = {'model_1': mimic_dt1, 'model_2': mimic_dt2, 'model_3': mimic_dt3, 'model_4': mimic_dt4, 'model_4': mimic_dt5}"
   ]
  },
  {
   "cell_type": "code",
   "execution_count": 212,
   "metadata": {},
   "outputs": [
    {
     "data": {
      "text/html": [
       "<div>\n",
       "<style scoped>\n",
       "    .dataframe tbody tr th:only-of-type {\n",
       "        vertical-align: middle;\n",
       "    }\n",
       "\n",
       "    .dataframe tbody tr th {\n",
       "        vertical-align: top;\n",
       "    }\n",
       "\n",
       "    .dataframe thead th {\n",
       "        text-align: right;\n",
       "    }\n",
       "</style>\n",
       "<table border=\"1\" class=\"dataframe\">\n",
       "  <thead>\n",
       "    <tr style=\"text-align: right;\">\n",
       "      <th></th>\n",
       "      <th></th>\n",
       "      <th>model_1</th>\n",
       "      <th>model_2</th>\n",
       "      <th>model_3</th>\n",
       "      <th>model_4</th>\n",
       "    </tr>\n",
       "  </thead>\n",
       "  <tbody>\n",
       "    <tr>\n",
       "      <th rowspan=\"11\" valign=\"top\">Group Fairness</th>\n",
       "      <th>Statistical Parity Difference</th>\n",
       "      <td>0.1952</td>\n",
       "      <td>-0.2740</td>\n",
       "      <td>0.2466</td>\n",
       "      <td>0.1010</td>\n",
       "    </tr>\n",
       "    <tr>\n",
       "      <th>Disparate Impact Ratio</th>\n",
       "      <td>1.2426</td>\n",
       "      <td>0.6460</td>\n",
       "      <td>1.3273</td>\n",
       "      <td>1.1305</td>\n",
       "    </tr>\n",
       "    <tr>\n",
       "      <th>Demographic Parity Difference</th>\n",
       "      <td>0.1952</td>\n",
       "      <td>0.2740</td>\n",
       "      <td>0.2466</td>\n",
       "      <td>0.1010</td>\n",
       "    </tr>\n",
       "    <tr>\n",
       "      <th>Demographic Parity Ratio</th>\n",
       "      <td>0.8048</td>\n",
       "      <td>0.6460</td>\n",
       "      <td>0.7534</td>\n",
       "      <td>0.8845</td>\n",
       "    </tr>\n",
       "    <tr>\n",
       "      <th>Average Odds Difference</th>\n",
       "      <td>0.2362</td>\n",
       "      <td>-0.4597</td>\n",
       "      <td>0.2923</td>\n",
       "      <td>-0.2429</td>\n",
       "    </tr>\n",
       "    <tr>\n",
       "      <th>Equal Opportunity Difference</th>\n",
       "      <td>0.1088</td>\n",
       "      <td>-0.2628</td>\n",
       "      <td>0.1503</td>\n",
       "      <td>0.1606</td>\n",
       "    </tr>\n",
       "    <tr>\n",
       "      <th>Equalized Odds Difference</th>\n",
       "      <td>0.3636</td>\n",
       "      <td>0.6566</td>\n",
       "      <td>0.4343</td>\n",
       "      <td>0.6465</td>\n",
       "    </tr>\n",
       "    <tr>\n",
       "      <th>Equalized Odds Ratio</th>\n",
       "      <td>0.6364</td>\n",
       "      <td>0.0000</td>\n",
       "      <td>0.5657</td>\n",
       "      <td>0.0000</td>\n",
       "    </tr>\n",
       "    <tr>\n",
       "      <th>Positive Predictive Parity Difference</th>\n",
       "      <td>0.1431</td>\n",
       "      <td>0.2876</td>\n",
       "      <td>0.1295</td>\n",
       "      <td>0.2832</td>\n",
       "    </tr>\n",
       "    <tr>\n",
       "      <th>Balanced Accuracy Difference</th>\n",
       "      <td>-0.1274</td>\n",
       "      <td>0.1969</td>\n",
       "      <td>-0.1420</td>\n",
       "      <td>0.4035</td>\n",
       "    </tr>\n",
       "    <tr>\n",
       "      <th>AUC Difference</th>\n",
       "      <td>-0.1274</td>\n",
       "      <td>0.1969</td>\n",
       "      <td>-0.1420</td>\n",
       "      <td>0.4035</td>\n",
       "    </tr>\n",
       "    <tr>\n",
       "      <th rowspan=\"2\" valign=\"top\">Individual Fairness</th>\n",
       "      <th>Consistency Score</th>\n",
       "      <td>0.7467</td>\n",
       "      <td>0.7200</td>\n",
       "      <td>0.7100</td>\n",
       "      <td>0.7233</td>\n",
       "    </tr>\n",
       "    <tr>\n",
       "      <th>Between-Group Generalized Entropy Error</th>\n",
       "      <td>0.0000</td>\n",
       "      <td>0.0026</td>\n",
       "      <td>0.0000</td>\n",
       "      <td>0.0001</td>\n",
       "    </tr>\n",
       "    <tr>\n",
       "      <th rowspan=\"4\" valign=\"top\">Model Performance **</th>\n",
       "      <th>Precision</th>\n",
       "      <td>0.7366</td>\n",
       "      <td>0.7174</td>\n",
       "      <td>0.7500</td>\n",
       "      <td>0.7253</td>\n",
       "    </tr>\n",
       "    <tr>\n",
       "      <th>Recall</th>\n",
       "      <td>0.8950</td>\n",
       "      <td>0.8250</td>\n",
       "      <td>0.8550</td>\n",
       "      <td>0.8450</td>\n",
       "    </tr>\n",
       "    <tr>\n",
       "      <th>F1-Score</th>\n",
       "      <td>0.8081</td>\n",
       "      <td>0.7674</td>\n",
       "      <td>0.7991</td>\n",
       "      <td>0.7806</td>\n",
       "    </tr>\n",
       "    <tr>\n",
       "      <th>Accuracy</th>\n",
       "      <td>0.7167</td>\n",
       "      <td>0.6667</td>\n",
       "      <td>0.7133</td>\n",
       "      <td>0.6833</td>\n",
       "    </tr>\n",
       "  </tbody>\n",
       "</table>\n",
       "</div>"
      ],
      "text/plain": [
       "                                                              model_1  \\\n",
       "Group Fairness       Statistical Parity Difference             0.1952   \n",
       "                     Disparate Impact Ratio                    1.2426   \n",
       "                     Demographic Parity Difference             0.1952   \n",
       "                     Demographic Parity Ratio                  0.8048   \n",
       "                     Average Odds Difference                   0.2362   \n",
       "                     Equal Opportunity Difference              0.1088   \n",
       "                     Equalized Odds Difference                 0.3636   \n",
       "                     Equalized Odds Ratio                      0.6364   \n",
       "                     Positive Predictive Parity Difference     0.1431   \n",
       "                     Balanced Accuracy Difference             -0.1274   \n",
       "                     AUC Difference                           -0.1274   \n",
       "Individual Fairness  Consistency Score                         0.7467   \n",
       "                     Between-Group Generalized Entropy Error   0.0000   \n",
       "Model Performance ** Precision                                 0.7366   \n",
       "                     Recall                                    0.8950   \n",
       "                     F1-Score                                  0.8081   \n",
       "                     Accuracy                                  0.7167   \n",
       "\n",
       "                                                              model_2  \\\n",
       "Group Fairness       Statistical Parity Difference            -0.2740   \n",
       "                     Disparate Impact Ratio                    0.6460   \n",
       "                     Demographic Parity Difference             0.2740   \n",
       "                     Demographic Parity Ratio                  0.6460   \n",
       "                     Average Odds Difference                  -0.4597   \n",
       "                     Equal Opportunity Difference             -0.2628   \n",
       "                     Equalized Odds Difference                 0.6566   \n",
       "                     Equalized Odds Ratio                      0.0000   \n",
       "                     Positive Predictive Parity Difference     0.2876   \n",
       "                     Balanced Accuracy Difference              0.1969   \n",
       "                     AUC Difference                            0.1969   \n",
       "Individual Fairness  Consistency Score                         0.7200   \n",
       "                     Between-Group Generalized Entropy Error   0.0026   \n",
       "Model Performance ** Precision                                 0.7174   \n",
       "                     Recall                                    0.8250   \n",
       "                     F1-Score                                  0.7674   \n",
       "                     Accuracy                                  0.6667   \n",
       "\n",
       "                                                              model_3  model_4  \n",
       "Group Fairness       Statistical Parity Difference             0.2466   0.1010  \n",
       "                     Disparate Impact Ratio                    1.3273   1.1305  \n",
       "                     Demographic Parity Difference             0.2466   0.1010  \n",
       "                     Demographic Parity Ratio                  0.7534   0.8845  \n",
       "                     Average Odds Difference                   0.2923  -0.2429  \n",
       "                     Equal Opportunity Difference              0.1503   0.1606  \n",
       "                     Equalized Odds Difference                 0.4343   0.6465  \n",
       "                     Equalized Odds Ratio                      0.5657   0.0000  \n",
       "                     Positive Predictive Parity Difference     0.1295   0.2832  \n",
       "                     Balanced Accuracy Difference             -0.1420   0.4035  \n",
       "                     AUC Difference                           -0.1420   0.4035  \n",
       "Individual Fairness  Consistency Score                         0.7100   0.7233  \n",
       "                     Between-Group Generalized Entropy Error   0.0000   0.0001  \n",
       "Model Performance ** Precision                                 0.7500   0.7253  \n",
       "                     Recall                                    0.8550   0.8450  \n",
       "                     F1-Score                                  0.7991   0.7806  \n",
       "                     Accuracy                                  0.7133   0.6833  "
      ]
     },
     "execution_count": 212,
     "metadata": {},
     "output_type": "execute_result"
    }
   ],
   "source": [
    "# Pass the above to the compare models function\n",
    "fhmc.compare_measures(X_Test, y_Test, prtc_attr, model_dict_mimic)"
   ]
  },
  {
   "cell_type": "code",
   "execution_count": null,
   "metadata": {},
   "outputs": [],
   "source": []
  },
  {
   "cell_type": "code",
   "execution_count": null,
   "metadata": {},
   "outputs": [],
   "source": []
  },
  {
   "cell_type": "code",
   "execution_count": null,
   "metadata": {},
   "outputs": [],
   "source": []
  },
  {
   "cell_type": "code",
   "execution_count": null,
   "metadata": {},
   "outputs": [],
   "source": []
  },
  {
   "cell_type": "code",
   "execution_count": null,
   "metadata": {},
   "outputs": [],
   "source": []
  }
 ],
 "metadata": {
  "kernelspec": {
   "display_name": "Python 3",
   "language": "python",
   "name": "python3"
  },
  "language_info": {
   "codemirror_mode": {
    "name": "ipython",
    "version": 3
   },
   "file_extension": ".py",
   "mimetype": "text/x-python",
   "name": "python",
   "nbconvert_exporter": "python",
   "pygments_lexer": "ipython3",
   "version": "3.8.3"
  }
 },
 "nbformat": 4,
 "nbformat_minor": 4
}
